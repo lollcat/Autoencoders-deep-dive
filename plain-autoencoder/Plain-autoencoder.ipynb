{
 "cells": [
  {
   "cell_type": "code",
   "execution_count": 1,
   "metadata": {},
   "outputs": [],
   "source": [
    "import tensorflow as tf\n",
    "from tensorflow.keras.layers import Dense, Flatten, Conv2D\n",
    "from tensorflow.keras import Model\n",
    "import numpy as np\n",
    "import matplotlib.pyplot as plt"
   ]
  },
  {
   "cell_type": "code",
   "execution_count": 2,
   "metadata": {},
   "outputs": [],
   "source": [
    "embedding_dim = 32"
   ]
  },
  {
   "cell_type": "code",
   "execution_count": 3,
   "metadata": {},
   "outputs": [],
   "source": [
    "mnist = tf.keras.datasets.mnist"
   ]
  },
  {
   "cell_type": "code",
   "execution_count": 4,
   "metadata": {},
   "outputs": [
    {
     "data": {
      "text/plain": [
       "((60000, 28, 28, 1), (10000, 28, 28, 1))"
      ]
     },
     "execution_count": 4,
     "metadata": {},
     "output_type": "execute_result"
    }
   ],
   "source": [
    "(x_train, _),(x_test, _) = mnist.load_data()\n",
    "x_train, x_test = x_train / 255.0, x_test / 255.0\n",
    "# Add a channels dimension\n",
    "x_train = x_train[..., tf.newaxis].astype(\"float32\")\n",
    "x_test = x_test[..., tf.newaxis].astype(\"float32\")\n",
    "#x_train = x_train[0:1000, :, :, :]\n",
    "x_train.shape, x_test.shape"
   ]
  },
  {
   "cell_type": "code",
   "execution_count": 5,
   "metadata": {},
   "outputs": [],
   "source": [
    "image_dim = x_train.shape[1:]"
   ]
  },
  {
   "cell_type": "code",
   "execution_count": 6,
   "metadata": {},
   "outputs": [],
   "source": [
    "train_ds = tf.data.Dataset.from_tensor_slices(x_train).shuffle(10000).batch(256)\n",
    "\n",
    "test_ds = tf.data.Dataset.from_tensor_slices(x_test).batch(256)"
   ]
  },
  {
   "cell_type": "code",
   "execution_count": 28,
   "metadata": {},
   "outputs": [],
   "source": [
    "class Encoder(Model):\n",
    "    def __init__(self, embedding_dim, layer_size = 128):\n",
    "        super(Encoder, self).__init__()\n",
    "        self.conv1 = Conv2D(32, 3, activation='relu')\n",
    "        self.flatten = Flatten()\n",
    "        self.d1 = Dense(layer_size, activation='relu')\n",
    "        self.d2 = Dense(embedding_dim, activation='relu')\n",
    "    \n",
    "    def call(self, x):\n",
    "        x = self.conv1(x)\n",
    "        x = self.flatten(x)\n",
    "        x = self.d1(x)\n",
    "        return self.d2(x)"
   ]
  },
  {
   "cell_type": "markdown",
   "metadata": {},
   "source": [
    "# Instantiate encoder"
   ]
  },
  {
   "cell_type": "code",
   "execution_count": 29,
   "metadata": {},
   "outputs": [],
   "source": [
    "encoder = Encoder(embedding_dim=embedding_dim)\n",
    "#tf.keras.utils.plot_model(encoder)"
   ]
  },
  {
   "cell_type": "code",
   "execution_count": 30,
   "metadata": {},
   "outputs": [
    {
     "data": {
      "text/plain": [
       "((50, 28, 28, 1), (10000, 28, 28, 1))"
      ]
     },
     "execution_count": 30,
     "metadata": {},
     "output_type": "execute_result"
    }
   ],
   "source": [
    "minitest = x_test[0:50, :, :]\n",
    "minitest.shape, x_test.shape"
   ]
  },
  {
   "cell_type": "code",
   "execution_count": 31,
   "metadata": {},
   "outputs": [
    {
     "data": {
      "text/plain": [
       "TensorShape([50, 32])"
      ]
     },
     "execution_count": 31,
     "metadata": {},
     "output_type": "execute_result"
    }
   ],
   "source": [
    "encoder_test =  encoder(minitest )\n",
    "encoder_test.shape"
   ]
  },
  {
   "cell_type": "code",
   "execution_count": 32,
   "metadata": {},
   "outputs": [],
   "source": [
    "class Decoder(tf.keras.Model):\n",
    "    def __init__(self, output_dim):\n",
    "        super(Decoder, self).__init__()\n",
    "        self.d1 = Dense(128, activation='relu')\n",
    "        self.d2 = Dense(128, activation='relu')\n",
    "        self.output_layer = Dense(np.prod(output_dim))\n",
    "        self.output_shaper = tf.keras.layers.Reshape(output_dim)\n",
    "    \n",
    "    def call(self, x):\n",
    "        x = self.d1(x)\n",
    "        x = self.d2(x)\n",
    "        x= self.output_layer(x)\n",
    "        return self.output_shaper(x)"
   ]
  },
  {
   "cell_type": "code",
   "execution_count": 33,
   "metadata": {},
   "outputs": [],
   "source": [
    "decoder = Decoder(output_dim=image_dim)"
   ]
  },
  {
   "cell_type": "code",
   "execution_count": 34,
   "metadata": {},
   "outputs": [
    {
     "data": {
      "text/plain": [
       "TensorShape([50, 28, 28, 1])"
      ]
     },
     "execution_count": 34,
     "metadata": {},
     "output_type": "execute_result"
    }
   ],
   "source": [
    "decoder_test = decoder(encoder_test)\n",
    "decoder_test.shape"
   ]
  },
  {
   "cell_type": "code",
   "execution_count": 35,
   "metadata": {},
   "outputs": [],
   "source": [
    "loss_objective = tf.keras.losses.BinaryCrossentropy(from_logits=True)\n",
    "optimizer = tf.keras.optimizers.Adam()"
   ]
  },
  {
   "cell_type": "code",
   "execution_count": 36,
   "metadata": {},
   "outputs": [
    {
     "data": {
      "text/plain": [
       "0.91723216"
      ]
     },
     "execution_count": 36,
     "metadata": {},
     "output_type": "execute_result"
    }
   ],
   "source": [
    "loss_objective(minitest, decoder_test).numpy()"
   ]
  },
  {
   "cell_type": "code",
   "execution_count": 37,
   "metadata": {},
   "outputs": [],
   "source": [
    "@tf.function\n",
    "def train_step(x_data):\n",
    "    with tf.GradientTape() as tape:\n",
    "        encoded_data = encoder(x_data)\n",
    "        decoded_data = decoder(encoded_data)\n",
    "        loss = loss_objective(x_data, decoded_data)\n",
    "    variables = encoder.trainable_variables + decoder.trainable_variables\n",
    "    gradients = tape.gradient(loss, variables)\n",
    "    optimizer.apply_gradients(zip(gradients, variables))\n",
    "    return loss\n",
    "#loss = train_step(minitest)\n",
    "#loss.numpy()"
   ]
  },
  {
   "cell_type": "code",
   "execution_count": 38,
   "metadata": {},
   "outputs": [],
   "source": [
    "@tf.function\n",
    "def test_step(x_data):\n",
    "    encoded_data = encoder(x_data)\n",
    "    decoded_data = decoder(encoded_data)\n",
    "    loss = loss_objective(x_data, decoded_data)\n",
    "    return loss\n",
    "#test_loss = test_step(minitest)\n",
    "#loss.numpy()"
   ]
  },
  {
   "cell_type": "code",
   "execution_count": 39,
   "metadata": {},
   "outputs": [],
   "source": [
    "EPOCHS = 20\n",
    "single_image = x_test[1, :, :, :][np.newaxis, :, :, :]\n",
    "single_image_hist = []\n",
    "\n",
    "encoded_data_single = encoder(single_image)\n",
    "decoded_data_single = decoder(encoded_data_single)\n",
    "single_image_hist.append(decoded_data_single.numpy())\n",
    "\n",
    "#decoder = Decoder(output_dim=image_dim) # re-initialising them causes confusion?? Maybe because train_step arguments getting replace\n",
    "#encoder = Encoder(embedding_dim=20)"
   ]
  },
  {
   "cell_type": "code",
   "execution_count": 40,
   "metadata": {},
   "outputs": [
    {
     "name": "stdout",
     "output_type": "stream",
     "text": [
      "Epoch 1, \n",
      " Loss: 165.16098022460938, \n",
      " Test Loss: 27.7258358001709\n",
      "Epoch 2, \n",
      " Loss: 162.88926696777344, \n",
      " Test Loss: 27.7258358001709\n",
      "Epoch 3, \n",
      " Loss: 162.88926696777344, \n",
      " Test Loss: 27.7258358001709\n",
      "Epoch 4, \n",
      " Loss: 162.88926696777344, \n",
      " Test Loss: 27.7258358001709\n",
      "Epoch 5, \n",
      " Loss: 162.88926696777344, \n",
      " Test Loss: 27.7258358001709\n",
      "Epoch 6, \n",
      " Loss: 162.88926696777344, \n",
      " Test Loss: 27.7258358001709\n",
      "Epoch 7, \n",
      " Loss: 162.88926696777344, \n",
      " Test Loss: 27.7258358001709\n",
      "Epoch 8, \n",
      " Loss: 162.88926696777344, \n",
      " Test Loss: 27.7258358001709\n",
      "Epoch 9, \n",
      " Loss: 162.88926696777344, \n",
      " Test Loss: 27.7258358001709\n",
      "Epoch 10, \n",
      " Loss: 162.88926696777344, \n",
      " Test Loss: 27.7258358001709\n",
      "Epoch 11, \n",
      " Loss: 162.88926696777344, \n",
      " Test Loss: 27.7258358001709\n",
      "Epoch 12, \n",
      " Loss: 162.88926696777344, \n",
      " Test Loss: 27.7258358001709\n",
      "Epoch 13, \n",
      " Loss: 162.88926696777344, \n",
      " Test Loss: 27.7258358001709\n",
      "Epoch 14, \n",
      " Loss: 162.88926696777344, \n",
      " Test Loss: 27.7258358001709\n",
      "Epoch 15, \n",
      " Loss: 162.88926696777344, \n",
      " Test Loss: 27.7258358001709\n",
      "Epoch 16, \n",
      " Loss: 162.88926696777344, \n",
      " Test Loss: 27.7258358001709\n",
      "Epoch 17, \n",
      " Loss: 162.88926696777344, \n",
      " Test Loss: 27.7258358001709\n",
      "Epoch 18, \n",
      " Loss: 162.88926696777344, \n",
      " Test Loss: 27.7258358001709\n",
      "Epoch 19, \n",
      " Loss: 162.88926696777344, \n",
      " Test Loss: 27.7258358001709\n",
      "Epoch 20, \n",
      " Loss: 162.88926696777344, \n",
      " Test Loss: 27.7258358001709\n"
     ]
    }
   ],
   "source": [
    "train_history = []; test_history = []\n",
    "\n",
    "for epoch in range(EPOCHS):\n",
    "    total_train_loss = 0\n",
    "    for images in train_ds:\n",
    "        train_loss = train_step(images)\n",
    "        total_train_loss += train_loss\n",
    "    \n",
    "    total_test_loss = 0\n",
    "    for test_images in test_ds:\n",
    "        test_loss = test_step(test_images)\n",
    "        total_test_loss += test_loss\n",
    "    \n",
    "    train_history.append(total_train_loss)\n",
    "    test_history.append(total_test_loss)\n",
    "    \n",
    "    print(f'Epoch {epoch + 1}, \\n Loss: {total_train_loss.numpy()}, \\n Test Loss: {total_test_loss.numpy()}')\n",
    "    \n",
    "    encoded_data_single = encoder(single_image)\n",
    "    decoded_data_single = decoder(encoded_data_single)\n",
    "    single_image_hist.append(decoded_data_single.numpy())"
   ]
  },
  {
   "cell_type": "code",
   "execution_count": 41,
   "metadata": {},
   "outputs": [
    {
     "data": {
      "text/plain": [
       "[<matplotlib.lines.Line2D at 0x21a80035550>]"
      ]
     },
     "execution_count": 41,
     "metadata": {},
     "output_type": "execute_result"
    },
    {
     "data": {
      "image/png": "[encoded data removed]",
      "text/plain": [
       "<Figure size 432x288 with 2 Axes>"
      ]
     },
     "metadata": {
      "needs_background": "light"
     },
     "output_type": "display_data"
    }
   ],
   "source": [
    "fig, axs = plt.subplots(1, 2)\n",
    "axs[0].plot(train_history)\n",
    "axs[1].plot(test_history)"
   ]
  },
  {
   "cell_type": "code",
   "execution_count": 42,
   "metadata": {
    "scrolled": true
   },
   "outputs": [
    {
     "data": {
      "text/plain": [
       "<matplotlib.image.AxesImage at 0x21a80099130>"
      ]
     },
     "execution_count": 42,
     "metadata": {},
     "output_type": "execute_result"
    },
    {
     "data": {
      "image/png": "[encoded data removed]",
      "text/plain": [
       "<Figure size 432x288 with 1 Axes>"
      ]
     },
     "metadata": {
      "needs_background": "light"
     },
     "output_type": "display_data"
    }
   ],
   "source": [
    "plt.imshow(np.squeeze(single_image), cmap=\"gray\")"
   ]
  },
  {
   "cell_type": "code",
   "execution_count": 43,
   "metadata": {},
   "outputs": [
    {
     "data": {
      "image/png": "[encoded data removed]",
      "text/plain": [
       "<Figure size 144x1440 with 21 Axes>"
      ]
     },
     "metadata": {
      "needs_background": "light"
     },
     "output_type": "display_data"
    }
   ],
   "source": [
    "fig, axs = plt.subplots(len(single_image_hist), figsize = (2, 20))\n",
    "for i, img in enumerate(single_image_hist):\n",
    "    axs[i].imshow(np.squeeze(img), cmap=\"gray\")"
   ]
  },
  {
   "cell_type": "code",
   "execution_count": null,
   "metadata": {},
   "outputs": [],
   "source": []
  }
 ],
 "metadata": {
  "kernelspec": {
   "display_name": "Python 3",
   "language": "python",
   "name": "python3"
  },
  "language_info": {
   "codemirror_mode": {
    "name": "ipython",
    "version": 3
   },
   "file_extension": ".py",
   "mimetype": "text/x-python",
   "name": "python",
   "nbconvert_exporter": "python",
   "pygments_lexer": "ipython3",
   "version": "3.8.5"
  }
 },
 "nbformat": 4,
 "nbformat_minor": 4
}
