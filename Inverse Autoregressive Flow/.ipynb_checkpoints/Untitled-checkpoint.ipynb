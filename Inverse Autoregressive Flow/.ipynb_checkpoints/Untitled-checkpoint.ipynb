{
 "cells": [
  {
   "cell_type": "code",
   "execution_count": 1,
   "id": "formed-dating",
   "metadata": {},
   "outputs": [],
   "source": [
    "from tensorflow.keras.layers import Dense, Flatten, Layer, Reshape, Concatenate\n",
    "import tensorflow as tf\n",
    "import numpy as np"
   ]
  },
  {
   "cell_type": "code",
   "execution_count": 12,
   "id": "integral-preference",
   "metadata": {},
   "outputs": [],
   "source": [
    "class Autoregressive_input_layer(Layer):\n",
    "    \"\"\"\n",
    "    Autoregressive inputs refer to inputs were we need to maintain autoregressive structure as in MADE paper\n",
    "    non_autoregressive inputs are fully connected (this represents h in IAF paper)\n",
    "    \"\"\"\n",
    "    def __init__(self, autoregressive_input_dim, non_autoregressive_input_dim, units=32):\n",
    "        super(Autoregressive_input_layer, self).__init__()\n",
    "        assert units >= autoregressive_input_dim\n",
    "        weight_initialiser = tf.random_normal_initializer()\n",
    "        self.autoregressive_weights = \\\n",
    "            tf.Variable(initial_value=weight_initialiser(shape=(autoregressive_input_dim, units),\n",
    "                        dtype=\"float32\"), trainable=True)\n",
    "        self.autoregressive_weights_mask = np.zeros((autoregressive_input_dim, units))\n",
    "        # TODO can do this without a lengthy loop\n",
    "        for i in range(autoregressive_input_dim):\n",
    "            for j in range(units):\n",
    "                units_corresponding_max_autoregressive_input_index = j//autoregressive_input_dim\n",
    "                if units_corresponding_max_autoregressive_input_index > i:\n",
    "                    self.autoregressive_weights_mask[i, j] = 1\n",
    "        self.autoregressive_weights_mask = tf.convert_to_tensor(self.autoregressive_weights_mask, dtype=\"float32\")\n",
    "        #self.L_mask = np.zeros((autoregressive_input_dim, units)).astype(\"float32\")\n",
    "        #self.L_mask = np.tril(self.L_mask, k=-1) # we can do this if units=autoregressive_input_dim\n",
    "\n",
    "        self.non_autoregressive_weights = \\\n",
    "            tf.Variable(initial_value=weight_initialiser(shape=(non_autoregressive_input_dim, units),\n",
    "                                                         dtype=\"float32\"), trainable=True)\n",
    "        self.biases = tf.Variable(initial_value=tf.zeros_initializer()(shape=(units, ), dtype=\"float32\"),\n",
    "                                  trainable=True)"
   ]
  },
  {
   "cell_type": "code",
   "execution_count": 18,
   "id": "herbal-chance",
   "metadata": {},
   "outputs": [],
   "source": [
    "input_layer = Autoregressive_input_layer(2, 3, units = 5)"
   ]
  },
  {
   "cell_type": "code",
   "execution_count": 19,
   "id": "fifty-sunglasses",
   "metadata": {},
   "outputs": [
    {
     "data": {
      "text/plain": [
       "<tf.Variable 'Variable:0' shape=(2, 5) dtype=float32, numpy=\n",
       "array([[-0.06765819,  0.12378453,  0.03438913, -0.01846073,  0.04576434],\n",
       "       [ 0.06933082, -0.08079021, -0.00821319,  0.01058174, -0.01392082]],\n",
       "      dtype=float32)>"
      ]
     },
     "execution_count": 19,
     "metadata": {},
     "output_type": "execute_result"
    }
   ],
   "source": [
    "input_layer.autoregressive_weights"
   ]
  },
  {
   "cell_type": "code",
   "execution_count": 20,
   "id": "decreased-moral",
   "metadata": {},
   "outputs": [
    {
     "data": {
      "text/plain": [
       "<tf.Tensor: shape=(2, 5), dtype=float32, numpy=\n",
       "array([[0., 0., 1., 1., 1.],\n",
       "       [0., 0., 0., 0., 1.]], dtype=float32)>"
      ]
     },
     "execution_count": 20,
     "metadata": {},
     "output_type": "execute_result"
    }
   ],
   "source": [
    "input_layer.autoregressive_weights_mask"
   ]
  },
  {
   "cell_type": "code",
   "execution_count": null,
   "id": "frozen-belly",
   "metadata": {},
   "outputs": [],
   "source": [
    "latent_z = np.array([1, 100, 10000])"
   ]
  }
 ],
 "metadata": {
  "kernelspec": {
   "display_name": "Python 3",
   "language": "python",
   "name": "python3"
  },
  "language_info": {
   "codemirror_mode": {
    "name": "ipython",
    "version": 3
   },
   "file_extension": ".py",
   "mimetype": "text/x-python",
   "name": "python",
   "nbconvert_exporter": "python",
   "pygments_lexer": "ipython3",
   "version": "3.8.5"
  }
 },
 "nbformat": 4,
 "nbformat_minor": 5
}
