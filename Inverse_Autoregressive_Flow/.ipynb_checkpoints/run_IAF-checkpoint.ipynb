{
 "cells": [
  {
   "cell_type": "code",
   "execution_count": 1,
   "id": "closed-wrong",
   "metadata": {},
   "outputs": [],
   "source": [
    "from pathlib import Path; import os\n",
    "cwd_path = Path.cwd(); set_path = str(cwd_path.parent); os.chdir(set_path)"
   ]
  },
  {
   "cell_type": "code",
   "execution_count": 2,
   "id": "worth-scope",
   "metadata": {},
   "outputs": [],
   "source": [
    "import tensorflow as tf\n",
    "#tf.config.run_functions_eagerly(True)\n",
    "from Utils.load_data import x_train, x_test, train_ds, test_ds, image_dim, y_test\n",
    "from Inverse_Autoregressive_Flow.IAF_VAE import IAF_VAE\n",
    "import matplotlib.pyplot as plt\n",
    "import datetime\n",
    "\n",
    "import numpy as np\n",
    "import matplotlib as mpl"
   ]
  },
  {
   "cell_type": "code",
   "execution_count": 21,
   "id": "contrary-campus",
   "metadata": {},
   "outputs": [],
   "source": [
    "latent_representation_dim = 2\n",
    "EPOCHS = 10\n",
    "name = \"\"\n",
    "# Define vae\n",
    "IAF_vae = IAF_VAE(latent_representation_dim, image_dim, layer_nodes=256, n_autoregressive_units=6)"
   ]
  },
  {
   "cell_type": "code",
   "execution_count": null,
   "id": "hollow-corrections",
   "metadata": {},
   "outputs": [],
   "source": [
    "samples = x_test[0:9, :, :, :][:, :, :]\n",
    "example_reconstruction_hist = [IAF_vae(samples)[0].numpy()]\n",
    "\n",
    "# Tensorboard writer\n",
    "logdir = \"logs/\" + datetime.datetime.now().strftime(\"%Y%m%d-%H%M%S\")\n",
    "train_file_writer = tf.summary.create_file_writer(logdir + name +  \"/train/\")\n",
    "test_file_writer = tf.summary.create_file_writer(logdir + name + \"/test\")\n",
    "\n",
    "\n",
    "train_history = []\n",
    "test_history = []\n",
    "step_counter = 0\n",
    "tf.summary.experimental.set_step(step_counter)\n",
    "for epoch in range(EPOCHS):\n",
    "    total_train_loss = 0\n",
    "    for images in train_ds:\n",
    "        ELBO, log_prob_x_given_z_decode_batch, log_probs_z_given_x_batch, log_prob_z_prior_batch = IAF_vae.train_step(images)\n",
    "        total_train_loss -= ELBO\n",
    "        with train_file_writer.as_default():\n",
    "            tf.summary.scalar(\"ELBO\", ELBO)\n",
    "            tf.summary.scalar(\"log_prob_x_given_z_decode\", log_prob_x_given_z_decode_batch)\n",
    "            tf.summary.scalar(\"log_probs_z_given_x\", log_probs_z_given_x_batch)\n",
    "            tf.summary.scalar(\"log_probs_z_given_x\", log_probs_z_given_x_batch)\n",
    "            tf.summary.scalar(\"log_prob_z_prior\", log_prob_z_prior_batch)\n",
    "        step_counter += 1\n",
    "        tf.summary.experimental.set_step(step_counter)\n",
    "\n",
    "    total_test_loss = 0\n",
    "    for test_images in test_ds:\n",
    "        ELBO, log_prob_x_given_z_decode_batch, log_probs_z_given_x_batch, log_prob_z_prior_batch = IAF_vae.test_step(test_images)\n",
    "        total_test_loss -= ELBO\n",
    "        with test_file_writer.as_default():\n",
    "            tf.summary.scalar(\"ELBO\", ELBO)\n",
    "            tf.summary.scalar(\"log_prob_x_given_z_decode\", log_prob_x_given_z_decode_batch)\n",
    "            tf.summary.scalar(\"log_probs_z_given_x\", log_probs_z_given_x_batch)\n",
    "            tf.summary.scalar(\"log_probs_z_given_x\", log_probs_z_given_x_batch)\n",
    "            tf.summary.scalar(\"log_prob_z_prior\", log_prob_z_prior_batch)\n",
    "\n",
    "    train_history.append(total_train_loss / len(train_ds))\n",
    "    test_history.append(total_test_loss / len(test_ds))\n",
    "    example_reconstruction_hist.append(IAF_vae(samples)[0].numpy())\n",
    "\n",
    "    print(\n",
    "        f'Epoch {epoch + 1}, '\n",
    "        f'\\n Loss: {total_train_loss.numpy() / len(train_ds)}, '\n",
    "        f'\\n Test Loss: {total_test_loss.numpy() / len(test_ds)}')"
   ]
  },
  {
   "cell_type": "code",
   "execution_count": null,
   "id": "suspended-reference",
   "metadata": {},
   "outputs": [],
   "source": [
    "fig, axs = plt.subplots(1, 2)\n",
    "axs[0].plot(train_history)\n",
    "axs[1].plot(test_history)\n",
    "plt.show()"
   ]
  },
  {
   "cell_type": "markdown",
   "id": "historical-biology",
   "metadata": {},
   "source": [
    "# Visualise Predictions"
   ]
  },
  {
   "cell_type": "markdown",
   "id": "outdoor-accused",
   "metadata": {},
   "source": [
    "### original"
   ]
  },
  {
   "cell_type": "code",
   "execution_count": null,
   "id": "contained-messenger",
   "metadata": {},
   "outputs": [],
   "source": [
    "n = 5\n",
    "fig, axs = plt.subplots(n,n)\n",
    "for i in range(n*n):\n",
    "    row = int(i/n)\n",
    "    col = i % n\n",
    "    axs[row, col].imshow(x_test[i, :, :], cmap=\"gray\")\n",
    "    axs[row, col].axis('off')"
   ]
  },
  {
   "cell_type": "markdown",
   "id": "selective-consolidation",
   "metadata": {},
   "source": [
    "### Predicted"
   ]
  },
  {
   "cell_type": "code",
   "execution_count": null,
   "id": "after-destruction",
   "metadata": {},
   "outputs": [],
   "source": [
    "n = 5\n",
    "reconstruction= IAF_vae(x_test[0:n*n, :, :])[0]\n",
    "reconstruction = tf.nn.sigmoid(reconstruction)\n",
    "fig, axs = plt.subplots(n,n)\n",
    "for i in range(n*n):\n",
    "    row = int(i/n)\n",
    "    col = i % n\n",
    "    axs[row, col].imshow(reconstruction[i, :, :], cmap=\"gray\")\n",
    "    axs[row, col].axis('off')\n",
    "fig.tight_layout()"
   ]
  },
  {
   "cell_type": "markdown",
   "id": "diverse-sellers",
   "metadata": {},
   "source": [
    "### If we want to compare history across training"
   ]
  },
  {
   "cell_type": "code",
   "execution_count": null,
   "id": "disturbed-conducting",
   "metadata": {},
   "outputs": [],
   "source": [
    "\"\"\"\n",
    "fig, axs = plt.subplots(3,3)\n",
    "for i in range(9):\n",
    "    row = int(i/3)\n",
    "    col = i % 3\n",
    "    axs[row, col].imshow(samples[i, :, :], cmap=\"gray\")\n",
    "    axs[row, col].axis('off')\n",
    "\n",
    "n = -1\n",
    "fig, axs = plt.subplots(3, 3)\n",
    "for i in range(9):\n",
    "    row = int(i / 3)\n",
    "    col = i % 3\n",
    "    axs[row, col].imshow(np.exp(example_reconstruction_hist[n][i, :, :]), cmap=\"gray\")\n",
    "    axs[row, col].axis('off')\n",
    "\"\"\" \n",
    "None"
   ]
  },
  {
   "cell_type": "markdown",
   "id": "sudden-reflection",
   "metadata": {},
   "source": [
    "# Visualise encoding in 2D"
   ]
  },
  {
   "cell_type": "code",
   "execution_count": null,
   "id": "careful-clarity",
   "metadata": {},
   "outputs": [],
   "source": [
    "mpl.rcParams['figure.dpi'] = 100\n",
    "encoding_2D = IAF_vae.get_encoding(x_test)\n",
    "fig, axs = plt.subplots(1,2, figsize=(6,3), sharex=True, sharey=True)\n",
    "axs[1].scatter(encoding_2D[:, 0], encoding_2D[:, 1], c=y_test, s=1, cmap=mpl.cm.rainbow)\n",
    "#plt.colorbar()\n",
    "prior = np.random.standard_normal((10000, 2))\n",
    "axs[0].scatter(prior[:, 0], prior[:, 1], s=1)\n",
    "\n",
    "axs[0].set_title(\"prior\")\n",
    "axs[1].set_title(\"p(z | x)\")"
   ]
  },
  {
   "cell_type": "markdown",
   "id": "celtic-ottawa",
   "metadata": {},
   "source": [
    "# Display a 2D manifold of the digits"
   ]
  },
  {
   "cell_type": "code",
   "execution_count": null,
   "id": "medieval-netherlands",
   "metadata": {},
   "outputs": [],
   "source": [
    "mpl.rcParams['figure.dpi'] = 300\n",
    "n = 15  # figure with 15x15 digits\n",
    "half_range = 4\n",
    "digit_size = 28\n",
    "figure = np.zeros((digit_size * n, digit_size * n))\n",
    "# We will sample n points within [-15, 15] standard deviations\n",
    "grid_x = np.linspace(-half_range, half_range, n)\n",
    "grid_y = np.linspace(-half_range, half_range, n)\n",
    "for i, yi in enumerate(grid_x):\n",
    "    for j, xi in enumerate(grid_y):\n",
    "        z_sample = np.array([[xi, yi]])\n",
    "        x_decoded = tf.nn.sigmoid(IAF_vae.decoder(z_sample).numpy()[0]).numpy()\n",
    "        digit = x_decoded.reshape(digit_size, digit_size)\n",
    "        figure[i * digit_size: (i + 1) * digit_size,\n",
    "               j * digit_size: (j + 1) * digit_size] = digit\n",
    "plt.figure(figsize=(10, 10))\n",
    "plt.imshow(figure, cmap=\"gray\")"
   ]
  },
  {
   "cell_type": "markdown",
   "id": "spread-stadium",
   "metadata": {},
   "source": [
    "# Let's look at 4 digits"
   ]
  },
  {
   "cell_type": "code",
   "execution_count": null,
   "id": "stone-catch",
   "metadata": {},
   "outputs": [],
   "source": [
    "### First comfirm the digits are different"
   ]
  },
  {
   "cell_type": "code",
   "execution_count": null,
   "id": "fatal-sequence",
   "metadata": {},
   "outputs": [],
   "source": [
    "y_test[0:4]"
   ]
  },
  {
   "cell_type": "code",
   "execution_count": null,
   "id": "exotic-procurement",
   "metadata": {},
   "outputs": [],
   "source": [
    "mpl.rcParams['figure.dpi'] = 100\n",
    "fig, axs = plt.subplots(2,2)\n",
    "for i in range(4):\n",
    "    row = int(i/2)\n",
    "    col = i % 2\n",
    "    axs[row, col].imshow(x_test[i, :, :], cmap=\"gray\")"
   ]
  },
  {
   "cell_type": "markdown",
   "id": "honest-yorkshire",
   "metadata": {},
   "source": [
    "# We want to see some bendy shapes here!"
   ]
  },
  {
   "cell_type": "code",
   "execution_count": null,
   "id": "municipal-tokyo",
   "metadata": {},
   "outputs": [],
   "source": [
    "n_points = 100\n",
    "cols = cmap=mpl.cm.rainbow(np.linspace(0.1, 0.9, n_points))\n",
    "points = []\n",
    "for point_n in range(n_points):\n",
    "    point_repeat = np.zeros((500, 28, 28, 1))\n",
    "    point_repeat[: :, :, :] = x_test[point_n, :, :]\n",
    "    encoding_2D = IAF_vae.get_encoding(point_repeat)\n",
    "    plt.scatter(encoding_2D[:, 0], encoding_2D[:, 1], color=cols[point_n], s=1, )"
   ]
  },
  {
   "cell_type": "code",
   "execution_count": null,
   "id": "sapphire-charlotte",
   "metadata": {},
   "outputs": [],
   "source": [
    "prior = np.random.standard_normal((10000, 2))\n",
    "plt.scatter(prior[:, 0], prior[:, 1], s=1)"
   ]
  },
  {
   "cell_type": "code",
   "execution_count": null,
   "id": "cordless-following",
   "metadata": {},
   "outputs": [],
   "source": []
  }
 ],
 "metadata": {
  "kernelspec": {
   "display_name": "Python 3",
   "language": "python",
   "name": "python3"
  },
  "language_info": {
   "codemirror_mode": {
    "name": "ipython",
    "version": 3
   },
   "file_extension": ".py",
   "mimetype": "text/x-python",
   "name": "python",
   "nbconvert_exporter": "python",
   "pygments_lexer": "ipython3",
   "version": "3.8.5"
  }
 },
 "nbformat": 4,
 "nbformat_minor": 5
}
