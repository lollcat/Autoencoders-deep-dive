{
 "cells": [
  {
   "cell_type": "code",
   "execution_count": 1,
   "id": "potential-moderator",
   "metadata": {},
   "outputs": [],
   "source": [
    "from pathlib import Path; import os\n",
    "cwd_path = Path.cwd(); set_path = str(cwd_path.parent); os.chdir(set_path)"
   ]
  },
  {
   "cell_type": "code",
   "execution_count": 2,
   "id": "german-thesaurus",
   "metadata": {},
   "outputs": [],
   "source": [
    "from Utils.load_binarized_mnist import x_train, x_test, train_ds, test_ds, image_dim\n",
    "import tensorflow as tf\n",
    "import numpy as np"
   ]
  },
  {
   "cell_type": "code",
   "execution_count": 4,
   "id": "julian-material",
   "metadata": {},
   "outputs": [],
   "source": [
    "from tensorflow.keras.layers import Layer, Conv2D, BatchNormalization, Conv2DTranspose\n",
    "from tensorflow_addons.layers import WeightNormalization"
   ]
  },
  {
   "cell_type": "markdown",
   "id": "cellular-current",
   "metadata": {},
   "source": [
    "# Weight Norm"
   ]
  },
  {
   "cell_type": "code",
   "execution_count": 9,
   "id": "ecological-layout",
   "metadata": {},
   "outputs": [],
   "source": [
    "conv = Conv2D(filters=10, kernel_size=(3,3), strides=(1,1))"
   ]
  },
  {
   "cell_type": "code",
   "execution_count": 10,
   "id": "false-hobby",
   "metadata": {},
   "outputs": [
    {
     "data": {
      "text/plain": [
       "TensorShape([10, 26, 26, 10])"
      ]
     },
     "execution_count": 10,
     "metadata": {},
     "output_type": "execute_result"
    }
   ],
   "source": [
    "conv(x_train[0:10, :, :, :]).shape"
   ]
  },
  {
   "cell_type": "code",
   "execution_count": 15,
   "id": "greenhouse-market",
   "metadata": {},
   "outputs": [],
   "source": [
    "norm = lambda x: WeightNormalization(x, data_init=True)"
   ]
  },
  {
   "cell_type": "code",
   "execution_count": 18,
   "id": "annual-converter",
   "metadata": {},
   "outputs": [],
   "source": [
    "conv = norm(Conv2D(filters=10, kernel_size=(3,3), strides=(1,1)))"
   ]
  },
  {
   "cell_type": "code",
   "execution_count": 19,
   "id": "excessive-easter",
   "metadata": {},
   "outputs": [
    {
     "data": {
      "text/plain": [
       "TensorShape([10, 26, 26, 10])"
      ]
     },
     "execution_count": 19,
     "metadata": {},
     "output_type": "execute_result"
    }
   ],
   "source": [
    "conv(x_train[0:10, :, :, :]).shape"
   ]
  },
  {
   "cell_type": "code",
   "execution_count": 21,
   "id": "opposed-coach",
   "metadata": {},
   "outputs": [
    {
     "data": {
      "text/plain": [
       "TensorShape([10, 13, 13, 32])"
      ]
     },
     "execution_count": 21,
     "metadata": {},
     "output_type": "execute_result"
    }
   ],
   "source": [
    "conv2 = norm(Conv2D(filters=32, kernel_size=(3,3), strides=(2,2)))\n",
    "conv2(x_train[0:10, :, :, :]).shape"
   ]
  },
  {
   "cell_type": "code",
   "execution_count": null,
   "id": "bronze-denmark",
   "metadata": {},
   "outputs": [],
   "source": [
    "from Inverse_Autoregressive_Flow_no_reg.Encoder import IAF_Encoder"
   ]
  },
  {
   "cell_type": "markdown",
   "id": "unsigned-insulin",
   "metadata": {},
   "source": [
    "### transpose conv"
   ]
  },
  {
   "cell_type": "code",
   "execution_count": 42,
   "id": "otherwise-sailing",
   "metadata": {},
   "outputs": [],
   "source": [
    "from tensorflow_probability import layers"
   ]
  },
  {
   "cell_type": "code",
   "execution_count": 43,
   "id": "velvet-charter",
   "metadata": {},
   "outputs": [
    {
     "data": {
      "text/plain": [
       "tensorflow_probability.python.layers.weight_norm.WeightNorm"
      ]
     },
     "execution_count": 43,
     "metadata": {},
     "output_type": "execute_result"
    }
   ],
   "source": [
    "layers.weight_norm.WeightNorm"
   ]
  },
  {
   "cell_type": "code",
   "execution_count": 44,
   "id": "comparable-dominant",
   "metadata": {},
   "outputs": [],
   "source": [
    "#conv = norm(Conv2DTranspose(filters=10, kernel_size=(3,3), strides=(1,1)))\n",
    "conv = layers.weight_norm.WeightNorm(Conv2DTranspose(filters=10, kernel_size=(3,3), strides=(1,1)))"
   ]
  },
  {
   "cell_type": "code",
   "execution_count": 45,
   "id": "decent-torture",
   "metadata": {},
   "outputs": [
    {
     "data": {
      "text/plain": [
       "TensorShape([10, 30, 30, 10])"
      ]
     },
     "execution_count": 45,
     "metadata": {},
     "output_type": "execute_result"
    }
   ],
   "source": [
    "conv(x_train[0:10, :, :, :]).shape"
   ]
  },
  {
   "cell_type": "markdown",
   "id": "polar-princeton",
   "metadata": {},
   "source": [
    "# padding = same vs valid"
   ]
  },
  {
   "cell_type": "code",
   "execution_count": 25,
   "id": "subject-harvard",
   "metadata": {},
   "outputs": [],
   "source": [
    "dense = tf.keras.layers.Dense(2)"
   ]
  },
  {
   "cell_type": "code",
   "execution_count": 26,
   "id": "dominant-pennsylvania",
   "metadata": {},
   "outputs": [],
   "source": [
    "x = np.array([[1,1, 1]])"
   ]
  },
  {
   "cell_type": "code",
   "execution_count": 27,
   "id": "minor-prime",
   "metadata": {},
   "outputs": [
    {
     "data": {
      "text/plain": [
       "<tf.Tensor: shape=(1, 2), dtype=float32, numpy=array([[ 0.9913081, -1.8203226]], dtype=float32)>"
      ]
     },
     "execution_count": 27,
     "metadata": {},
     "output_type": "execute_result"
    }
   ],
   "source": [
    "dense(x)"
   ]
  },
  {
   "cell_type": "code",
   "execution_count": 28,
   "id": "taken-victory",
   "metadata": {},
   "outputs": [
    {
     "data": {
      "text/plain": [
       "<tf.Variable 'dense_3/kernel:0' shape=(3, 2) dtype=float32, numpy=\n",
       "array([[ 0.9124942 , -0.7192813 ],\n",
       "       [ 0.9132912 , -0.6430105 ],\n",
       "       [-0.8344773 , -0.45803082]], dtype=float32)>"
      ]
     },
     "execution_count": 28,
     "metadata": {},
     "output_type": "execute_result"
    }
   ],
   "source": [
    "dense.kernel"
   ]
  },
  {
   "cell_type": "code",
   "execution_count": 20,
   "id": "received-arthritis",
   "metadata": {},
   "outputs": [
    {
     "data": {
      "text/plain": [
       "[<tf.Variable 'dense_2/kernel:0' shape=(2, 2) dtype=float32, numpy=\n",
       " array([[-0.75537544, -0.0737685 ],\n",
       "        [ 0.8396195 , -0.40857232]], dtype=float32)>,\n",
       " <tf.Variable 'dense_2/bias:0' shape=(2,) dtype=float32, numpy=array([0., 0.], dtype=float32)>]"
      ]
     },
     "execution_count": 20,
     "metadata": {},
     "output_type": "execute_result"
    }
   ],
   "source": [
    "dense.weights"
   ]
  },
  {
   "cell_type": "code",
   "execution_count": 19,
   "id": "practical-tension",
   "metadata": {},
   "outputs": [
    {
     "data": {
      "text/plain": [
       "['_TF_MODULE_IGNORED_PROPERTIES',\n",
       " '__call__',\n",
       " '__class__',\n",
       " '__delattr__',\n",
       " '__dict__',\n",
       " '__dir__',\n",
       " '__doc__',\n",
       " '__eq__',\n",
       " '__format__',\n",
       " '__ge__',\n",
       " '__getattribute__',\n",
       " '__getstate__',\n",
       " '__gt__',\n",
       " '__hash__',\n",
       " '__init__',\n",
       " '__init_subclass__',\n",
       " '__le__',\n",
       " '__lt__',\n",
       " '__module__',\n",
       " '__ne__',\n",
       " '__new__',\n",
       " '__reduce__',\n",
       " '__reduce_ex__',\n",
       " '__repr__',\n",
       " '__setattr__',\n",
       " '__setstate__',\n",
       " '__sizeof__',\n",
       " '__str__',\n",
       " '__subclasshook__',\n",
       " '__weakref__',\n",
       " '_activity_regularizer',\n",
       " '_add_trackable',\n",
       " '_add_variable_with_custom_getter',\n",
       " '_auto_track_sub_layers',\n",
       " '_autocast',\n",
       " '_autographed_call',\n",
       " '_build_input_shape',\n",
       " '_call_accepts_kwargs',\n",
       " '_call_arg_was_passed',\n",
       " '_call_fn_arg_defaults',\n",
       " '_call_fn_arg_positions',\n",
       " '_call_fn_args',\n",
       " '_call_full_argspec',\n",
       " '_callable_losses',\n",
       " '_cast_single_input',\n",
       " '_checkpoint_dependencies',\n",
       " '_clear_losses',\n",
       " '_compute_dtype',\n",
       " '_compute_dtype_object',\n",
       " '_dedup_weights',\n",
       " '_default_training_arg',\n",
       " '_deferred_dependencies',\n",
       " '_dtype',\n",
       " '_dtype_policy',\n",
       " '_dynamic',\n",
       " '_eager_losses',\n",
       " '_expects_mask_arg',\n",
       " '_expects_training_arg',\n",
       " '_flatten',\n",
       " '_flatten_layers',\n",
       " '_functional_construction_call',\n",
       " '_gather_children_attribute',\n",
       " '_gather_saveables_for_checkpoint',\n",
       " '_get_call_arg_value',\n",
       " '_get_existing_metric',\n",
       " '_get_input_masks',\n",
       " '_get_node_attribute_at_index',\n",
       " '_get_save_spec',\n",
       " '_get_trainable_state',\n",
       " '_handle_activity_regularization',\n",
       " '_handle_deferred_dependencies',\n",
       " '_handle_weight_regularization',\n",
       " '_inbound_nodes',\n",
       " '_inbound_nodes_value',\n",
       " '_infer_output_signature',\n",
       " '_init_call_fn_args',\n",
       " '_init_set_name',\n",
       " '_initial_weights',\n",
       " '_input_spec',\n",
       " '_instrument_layer_creation',\n",
       " '_instrumented_keras_api',\n",
       " '_instrumented_keras_layer_class',\n",
       " '_instrumented_keras_model_class',\n",
       " '_is_layer',\n",
       " '_keras_api_names',\n",
       " '_keras_api_names_v1',\n",
       " '_keras_tensor_symbolic_call',\n",
       " '_layers',\n",
       " '_list_extra_dependencies_for_serialization',\n",
       " '_list_functions_for_serialization',\n",
       " '_lookup_dependency',\n",
       " '_losses',\n",
       " '_map_resources',\n",
       " '_maybe_build',\n",
       " '_maybe_cast_inputs',\n",
       " '_maybe_create_attribute',\n",
       " '_maybe_initialize_trackable',\n",
       " '_metrics',\n",
       " '_metrics_lock',\n",
       " '_must_restore_from_config',\n",
       " '_name',\n",
       " '_name_based_attribute_restore',\n",
       " '_name_based_restores',\n",
       " '_name_scope',\n",
       " '_no_dependency',\n",
       " '_non_trainable_weights',\n",
       " '_obj_reference_counts',\n",
       " '_obj_reference_counts_dict',\n",
       " '_object_identifier',\n",
       " '_outbound_nodes',\n",
       " '_outbound_nodes_value',\n",
       " '_preload_simple_restoration',\n",
       " '_preserve_input_structure_in_config',\n",
       " '_restore_from_checkpoint_position',\n",
       " '_saved_model_inputs_spec',\n",
       " '_self_name_based_restores',\n",
       " '_self_saveable_object_factories',\n",
       " '_self_setattr_tracking',\n",
       " '_self_unconditional_checkpoint_dependencies',\n",
       " '_self_unconditional_deferred_dependencies',\n",
       " '_self_unconditional_dependency_names',\n",
       " '_self_update_uid',\n",
       " '_set_call_arg_value',\n",
       " '_set_connectivity_metadata',\n",
       " '_set_dtype_policy',\n",
       " '_set_mask_keras_history_checked',\n",
       " '_set_mask_metadata',\n",
       " '_set_save_spec',\n",
       " '_set_trainable_state',\n",
       " '_set_training_mode',\n",
       " '_setattr_tracking',\n",
       " '_should_cast_single_input',\n",
       " '_single_restoration_from_checkpoint_position',\n",
       " '_split_out_first_arg',\n",
       " '_stateful',\n",
       " '_supports_masking',\n",
       " '_symbolic_call',\n",
       " '_tf_api_names',\n",
       " '_tf_api_names_v1',\n",
       " '_thread_local',\n",
       " '_track_trackable',\n",
       " '_trackable_saved_model_saver',\n",
       " '_tracking_metadata',\n",
       " '_trainable',\n",
       " '_trainable_weights',\n",
       " '_unconditional_checkpoint_dependencies',\n",
       " '_unconditional_dependency_names',\n",
       " '_update_uid',\n",
       " '_updates',\n",
       " 'activation',\n",
       " 'activity_regularizer',\n",
       " 'add_loss',\n",
       " 'add_metric',\n",
       " 'add_update',\n",
       " 'add_variable',\n",
       " 'add_weight',\n",
       " 'apply',\n",
       " 'bias',\n",
       " 'bias_constraint',\n",
       " 'bias_initializer',\n",
       " 'bias_regularizer',\n",
       " 'build',\n",
       " 'built',\n",
       " 'call',\n",
       " 'compute_dtype',\n",
       " 'compute_mask',\n",
       " 'compute_output_shape',\n",
       " 'compute_output_signature',\n",
       " 'count_params',\n",
       " 'dtype',\n",
       " 'dtype_policy',\n",
       " 'dynamic',\n",
       " 'from_config',\n",
       " 'get_config',\n",
       " 'get_input_at',\n",
       " 'get_input_mask_at',\n",
       " 'get_input_shape_at',\n",
       " 'get_losses_for',\n",
       " 'get_output_at',\n",
       " 'get_output_mask_at',\n",
       " 'get_output_shape_at',\n",
       " 'get_updates_for',\n",
       " 'get_weights',\n",
       " 'inbound_nodes',\n",
       " 'input',\n",
       " 'input_mask',\n",
       " 'input_shape',\n",
       " 'input_spec',\n",
       " 'kernel',\n",
       " 'kernel_constraint',\n",
       " 'kernel_initializer',\n",
       " 'kernel_regularizer',\n",
       " 'losses',\n",
       " 'metrics',\n",
       " 'name',\n",
       " 'name_scope',\n",
       " 'non_trainable_variables',\n",
       " 'non_trainable_weights',\n",
       " 'outbound_nodes',\n",
       " 'output',\n",
       " 'output_mask',\n",
       " 'output_shape',\n",
       " 'set_weights',\n",
       " 'stateful',\n",
       " 'submodules',\n",
       " 'supports_masking',\n",
       " 'trainable',\n",
       " 'trainable_variables',\n",
       " 'trainable_weights',\n",
       " 'units',\n",
       " 'updates',\n",
       " 'use_bias',\n",
       " 'variable_dtype',\n",
       " 'variables',\n",
       " 'weights',\n",
       " 'with_name_scope']"
      ]
     },
     "execution_count": 19,
     "metadata": {},
     "output_type": "execute_result"
    }
   ],
   "source": [
    "dir(dense)"
   ]
  },
  {
   "cell_type": "code",
   "execution_count": 18,
   "id": "northern-compact",
   "metadata": {},
   "outputs": [
    {
     "data": {
      "text/plain": [
       "<tf.Variable 'dense_2/bias:0' shape=(2,) dtype=float32, numpy=array([0., 0.], dtype=float32)>"
      ]
     },
     "execution_count": 18,
     "metadata": {},
     "output_type": "execute_result"
    }
   ],
   "source": [
    "dense.bias"
   ]
  },
  {
   "cell_type": "code",
   "execution_count": 16,
   "id": "mental-ozone",
   "metadata": {},
   "outputs": [
    {
     "data": {
      "text/plain": [
       "[<tf.Variable 'dense_2/kernel:0' shape=(2, 2) dtype=float32, numpy=\n",
       " array([[-0.75537544, -0.0737685 ],\n",
       "        [ 0.8396195 , -0.40857232]], dtype=float32)>,\n",
       " <tf.Variable 'dense_2/bias:0' shape=(2,) dtype=float32, numpy=array([0., 0.], dtype=float32)>]"
      ]
     },
     "execution_count": 16,
     "metadata": {},
     "output_type": "execute_result"
    }
   ],
   "source": [
    "dense.trainable_variables"
   ]
  },
  {
   "cell_type": "code",
   "execution_count": 6,
   "id": "accurate-indian",
   "metadata": {},
   "outputs": [
    {
     "data": {
      "text/plain": [
       "TensorShape([10, 14, 14, 32])"
      ]
     },
     "execution_count": 6,
     "metadata": {},
     "output_type": "execute_result"
    }
   ],
   "source": [
    "conv = tf.keras.layers.Conv2D(filters=32, kernel_size=(3,3), activation='relu', strides=(2, 2), \n",
    "                       input_shape=image_dim, padding=\"same\")\n",
    "conv_out = conv(x_train[0:10])\n",
    "conv_out.shape"
   ]
  },
  {
   "cell_type": "code",
   "execution_count": 18,
   "id": "charged-plenty",
   "metadata": {},
   "outputs": [
    {
     "name": "stdout",
     "output_type": "stream",
     "text": [
      "(10, 13, 13, 32)\n",
      "(10, 6, 6, 32)\n",
      "(10, 2, 2, 32)\n"
     ]
    },
    {
     "data": {
      "text/plain": [
       "TensorShape([10, 2, 2, 32])"
      ]
     },
     "execution_count": 18,
     "metadata": {},
     "output_type": "execute_result"
    }
   ],
   "source": [
    "conv = tf.keras.layers.Conv2D(filters=32, kernel_size=(3,3), activation='relu', strides=(2, 2), \n",
    "                       input_shape=image_dim, padding=\"valid\")\n",
    "conv2 = tf.keras.layers.Conv2D(filters=32, kernel_size=(3,3), activation='relu', strides=(2, 2), \n",
    "                       input_shape=image_dim, padding=\"valid\")\n",
    "conv3 = tf.keras.layers.Conv2D(filters=32, kernel_size=(3,3), activation='relu', strides=(2, 2), \n",
    "                       input_shape=image_dim, padding=\"valid\")\n",
    "conv_out = conv(x_train[0:10])\n",
    "print(conv_out.shape)\n",
    "conv_out = conv2(conv_out)\n",
    "print(conv_out.shape)\n",
    "conv_out = conv3(conv_out)\n",
    "print(conv_out.shape)\n",
    "\n",
    "conv_out.shape"
   ]
  },
  {
   "cell_type": "code",
   "execution_count": 16,
   "id": "timely-attribute",
   "metadata": {},
   "outputs": [],
   "source": [
    "deconv = tf.keras.layers.Conv2DTranspose(filters=32, kernel_size=3, strides=2, padding=\"valid\")\n",
    "deconv1 = tf.keras.layers.Conv2DTranspose(filters=32, kernel_size=3, strides=2, padding=\"valid\")\n",
    "deconv2 = tf.keras.layers.Conv2DTranspose(filters=32, kernel_size=3, strides=2, padding=\"valid\")"
   ]
  },
  {
   "cell_type": "code",
   "execution_count": 19,
   "id": "complimentary-malta",
   "metadata": {},
   "outputs": [
    {
     "data": {
      "text/plain": [
       "<tf.Tensor: shape=(10, 5, 5, 32), dtype=float32, numpy=\n",
       "array([[[[ 5.93850564e-04, -1.91642274e-03, -3.00803082e-03, ...,\n",
       "          -1.92411919e-03,  2.53479066e-03,  6.67284941e-04],\n",
       "         [-1.63979398e-03, -2.12623345e-04, -2.16966565e-03, ...,\n",
       "           3.13750375e-03,  1.02140917e-03, -2.53997766e-03],\n",
       "         [ 3.86243337e-03, -1.88302388e-03, -3.96666117e-03, ...,\n",
       "          -1.07573494e-02,  9.86023527e-03, -3.72777833e-03],\n",
       "         [ 1.00148004e-02,  3.52762733e-03,  4.73284209e-03, ...,\n",
       "           2.71352399e-02,  1.91282220e-02, -1.74228363e-02],\n",
       "         [ 4.32376424e-03,  6.73064590e-03,  4.76729870e-03, ...,\n",
       "           4.87983134e-03, -1.00358985e-02, -8.08366761e-03]],\n",
       "\n",
       "        [[-1.99023169e-03, -7.20379641e-04,  2.09826184e-03, ...,\n",
       "          -3.65595426e-03,  2.11319420e-03, -1.21493556e-03],\n",
       "         [-8.57212639e-04,  7.50195293e-04, -1.22002803e-03, ...,\n",
       "          -8.05182557e-04, -2.08987319e-03, -3.71893584e-05],\n",
       "         [ 1.23140123e-02, -9.16633848e-03,  6.47854479e-03, ...,\n",
       "          -1.57829281e-02,  1.60804973e-03, -6.25176542e-03],\n",
       "         [-5.51637635e-03, -3.95783194e-04,  2.22200906e-04, ...,\n",
       "          -1.92763342e-03,  4.97301866e-04,  1.43821854e-02],\n",
       "         [ 6.21092226e-03,  1.15987342e-02, -8.76777805e-03, ...,\n",
       "          -7.01147655e-04, -7.26984907e-03, -1.82268675e-02]],\n",
       "\n",
       "        [[-4.04479308e-03, -7.94547331e-03, -8.64129327e-03, ...,\n",
       "          -6.08383538e-03,  3.26355966e-03, -2.66581913e-03],\n",
       "         [-3.37300193e-03, -1.30089270e-02, -1.13160582e-03, ...,\n",
       "           2.24450491e-02,  4.77143098e-04, -9.82230529e-03],\n",
       "         [-9.87692829e-03,  1.62006095e-02, -3.70673165e-02, ...,\n",
       "           3.44320154e-03,  9.78304911e-03,  1.12939216e-02],\n",
       "         [-9.76765528e-03, -1.88078508e-02, -1.41272563e-02, ...,\n",
       "           6.49028365e-03, -2.87680104e-02,  4.06224094e-03],\n",
       "         [-1.62637420e-03,  1.07532647e-02,  1.03232320e-02, ...,\n",
       "           4.19515371e-03,  1.75160393e-02, -2.01862138e-02]],\n",
       "\n",
       "        [[ 7.89220072e-03, -3.08281672e-03,  1.00158551e-03, ...,\n",
       "          -7.09599815e-03, -1.02790911e-03, -2.19821086e-04],\n",
       "         [-3.30458046e-03,  1.69914367e-03, -2.61580804e-03, ...,\n",
       "          -7.55412318e-03, -1.85409852e-03, -9.07019712e-03],\n",
       "         [-1.84145570e-02, -3.04008126e-02, -7.47118378e-03, ...,\n",
       "           4.32769442e-03,  4.14883252e-04,  4.37743589e-03],\n",
       "         [-5.32214670e-03, -1.05648311e-02, -2.09003896e-03, ...,\n",
       "          -5.42930467e-03, -1.33453878e-02, -3.91456718e-03],\n",
       "         [-1.59371588e-02,  3.39382235e-03, -2.27942271e-03, ...,\n",
       "          -2.26956164e-03,  9.22208652e-03, -3.05001102e-02]],\n",
       "\n",
       "        [[ 1.44004950e-03,  1.80093907e-02, -1.98503602e-02, ...,\n",
       "           5.01723262e-03, -3.25469207e-03, -2.61980342e-03],\n",
       "         [-2.33240615e-04, -1.37199135e-02,  5.16867498e-03, ...,\n",
       "           7.61341595e-04, -2.00639125e-02, -1.17519591e-03],\n",
       "         [-4.55014873e-03,  2.62647197e-02, -2.09886357e-02, ...,\n",
       "           1.00225713e-02,  2.90018972e-04, -8.39812495e-03],\n",
       "         [ 2.90898466e-03, -2.30929554e-02,  2.43843384e-02, ...,\n",
       "          -9.84625798e-03, -9.18204244e-03, -5.69520146e-03],\n",
       "         [ 3.45856580e-03,  1.03765549e-02, -1.91920809e-02, ...,\n",
       "           3.15376150e-04,  4.12386423e-03,  1.76628865e-02]]],\n",
       "\n",
       "\n",
       "       [[[ 1.07664010e-02, -1.42924758e-02, -9.82944574e-03, ...,\n",
       "          -7.45627284e-03,  2.56437552e-03, -5.34876157e-03],\n",
       "         [ 1.51673434e-02, -9.77318920e-03,  5.21872146e-03, ...,\n",
       "           8.85387138e-03,  1.24028102e-02, -2.20894278e-03],\n",
       "         [-7.67662842e-03, -1.51823023e-02, -2.02988423e-02, ...,\n",
       "          -1.33506358e-02, -1.92814926e-03, -1.45275388e-02],\n",
       "         [ 1.01846615e-02, -1.19938236e-02,  1.66375805e-02, ...,\n",
       "           2.33927984e-02, -4.27860487e-03, -1.06573906e-02],\n",
       "         [ 8.39079358e-03,  1.84124231e-03,  3.01169101e-02, ...,\n",
       "           2.36743484e-02, -1.35769211e-02, -1.10502858e-02]],\n",
       "\n",
       "        [[ 2.25750054e-03, -2.02500680e-03,  1.04214270e-02, ...,\n",
       "          -1.47388568e-02, -2.13354849e-03, -1.08964415e-02],\n",
       "         [-9.90044326e-03,  3.28594609e-03, -8.14309251e-03, ...,\n",
       "          -4.00483282e-03, -1.05250590e-02,  7.48433114e-04],\n",
       "         [ 1.03699323e-03, -1.98639790e-03,  8.77730548e-03, ...,\n",
       "          -2.59323195e-02, -1.59506183e-02, -1.76429171e-02],\n",
       "         [-2.01711878e-02,  6.55113952e-03, -2.83470354e-03, ...,\n",
       "           5.53256716e-04, -1.58206634e-02,  2.11886931e-02],\n",
       "         [-1.16871484e-02, -3.60292639e-03, -1.84191123e-03, ...,\n",
       "           8.49596225e-03,  8.45253281e-03, -2.56440546e-02]],\n",
       "\n",
       "        [[-1.58546418e-02, -1.24765607e-02, -2.18376964e-02, ...,\n",
       "           2.81519722e-03,  8.19375459e-03,  1.62808280e-02],\n",
       "         [ 7.42584560e-03,  5.52078243e-04, -1.28076328e-02, ...,\n",
       "           6.75551780e-03, -1.32637685e-02, -1.72638558e-02],\n",
       "         [-1.96099970e-02,  1.87892579e-02, -2.94124074e-02, ...,\n",
       "          -1.48865655e-02,  6.40182663e-03,  1.12688635e-03],\n",
       "         [ 1.08442884e-02, -1.99739616e-02,  1.18873641e-02, ...,\n",
       "           6.17072824e-03, -2.87880190e-03,  2.08020210e-05],\n",
       "         [-1.24585498e-02,  2.69072372e-02, -3.14230076e-03, ...,\n",
       "          -4.89258487e-03, -4.61759791e-03, -1.22598195e-02]],\n",
       "\n",
       "        [[-3.50022642e-03, -1.09398961e-02, -2.36776215e-03, ...,\n",
       "          -1.02191791e-03,  7.37744989e-03,  2.13973480e-03],\n",
       "         [-1.22831753e-02, -3.36439721e-03, -6.38314232e-04, ...,\n",
       "          -1.02528716e-02, -5.08764479e-03,  8.17363523e-03],\n",
       "         [ 6.22718036e-03, -2.11557820e-02, -2.60135625e-04, ...,\n",
       "          -2.61631627e-02,  6.73294533e-04, -1.80454496e-02],\n",
       "         [-5.31906215e-03, -7.05306372e-03,  2.83926784e-04, ...,\n",
       "          -4.06795228e-03, -9.59006138e-03,  1.26408618e-02],\n",
       "         [-8.04054376e-04,  1.40011683e-02,  1.46054183e-04, ...,\n",
       "          -5.03349444e-03, -9.22576152e-03, -1.60538368e-02]],\n",
       "\n",
       "        [[-7.37688271e-03,  9.56310425e-03, -3.98161449e-03, ...,\n",
       "           1.26982387e-03,  2.24574679e-03, -1.25189297e-04],\n",
       "         [-3.86845530e-03, -1.31948525e-02,  1.49111692e-02, ...,\n",
       "           2.73723097e-04, -1.05453366e-02,  4.35273536e-03],\n",
       "         [-1.43014165e-02,  1.14377197e-02, -1.82540491e-02, ...,\n",
       "          -7.36868766e-04,  5.71360998e-03,  1.08467890e-02],\n",
       "         [ 1.45001505e-02, -1.69931930e-02,  2.84880074e-03, ...,\n",
       "          -7.57120922e-03, -2.43586078e-02,  1.11686578e-02],\n",
       "         [ 4.67287609e-03,  1.29181184e-02,  3.34542198e-03, ...,\n",
       "           7.60830520e-03,  1.38581116e-02, -1.04602734e-02]]],\n",
       "\n",
       "\n",
       "       [[[ 6.16259594e-03, -8.67981836e-03, -5.35319466e-03, ...,\n",
       "          -1.59798525e-02, -4.81489068e-03, -1.46298353e-02],\n",
       "         [ 2.04126295e-02, -8.21915362e-03,  1.23843100e-04, ...,\n",
       "           2.12722104e-02,  9.26052872e-03, -1.86408665e-02],\n",
       "         [-8.59589223e-03,  9.56317876e-03, -4.07318398e-03, ...,\n",
       "           1.48237851e-02,  2.82942178e-03, -5.68418298e-03],\n",
       "         [ 5.90265961e-03, -1.45513006e-02,  4.82460391e-03, ...,\n",
       "           7.93650653e-03,  6.24331087e-03,  7.53715634e-03],\n",
       "         [-1.50426524e-03, -3.41082597e-03,  7.68916914e-03, ...,\n",
       "           9.62763932e-03, -2.51907408e-02, -1.70312226e-02]],\n",
       "\n",
       "        [[ 1.54444287e-02, -8.14552885e-03,  2.11066175e-02, ...,\n",
       "          -1.15910918e-02, -1.61590315e-02, -1.07844910e-02],\n",
       "         [ 1.27192168e-03, -7.15513481e-03, -9.54383798e-03, ...,\n",
       "          -7.40521913e-03, -1.55552886e-02,  7.41072884e-03],\n",
       "         [-1.04271690e-03,  1.35466158e-02,  1.96126234e-02, ...,\n",
       "          -2.25189924e-02, -1.20485043e-02, -3.09866443e-02],\n",
       "         [-1.75335873e-02, -3.33689083e-03, -1.60140824e-02, ...,\n",
       "          -1.10723907e-02, -1.83112696e-02, -2.08582473e-03],\n",
       "         [-1.38661237e-02,  4.19127196e-03, -3.02995113e-03, ...,\n",
       "           1.05541078e-02,  1.57954302e-02, -1.67091414e-02]],\n",
       "\n",
       "        [[ 2.49733450e-03, -2.04157252e-02, -3.62575613e-02, ...,\n",
       "          -3.52351088e-03, -1.02574592e-02,  2.51887701e-02],\n",
       "         [ 1.61721986e-02, -2.24451534e-04, -4.62329900e-03, ...,\n",
       "           1.39451781e-02,  5.22941537e-03, -2.02582348e-02],\n",
       "         [-4.03752960e-02,  2.00176667e-02, -1.26406476e-02, ...,\n",
       "           3.29687670e-02, -1.16436137e-02, -1.70561532e-03],\n",
       "         [ 4.31698654e-03, -1.29203601e-02, -1.39776170e-02, ...,\n",
       "           7.69064063e-03, -5.96664194e-03,  4.20144293e-03],\n",
       "         [-2.40549333e-02,  4.27825227e-02, -1.73885692e-02, ...,\n",
       "          -2.20816024e-03,  6.91988505e-04,  1.91767402e-02]],\n",
       "\n",
       "        [[ 2.66790371e-02, -1.93715747e-02, -1.32683129e-03, ...,\n",
       "          -6.60766382e-04,  1.52466428e-02,  1.12407580e-02],\n",
       "         [-6.89019775e-03,  1.94207765e-03,  3.79457371e-03, ...,\n",
       "          -5.14942454e-03, -1.13855414e-02,  5.98576292e-03],\n",
       "         [-1.42805791e-02, -2.48231553e-03, -2.58505959e-02, ...,\n",
       "          -1.41846295e-02,  4.29040939e-03, -2.24707369e-02],\n",
       "         [-4.81982483e-03,  2.46219616e-03, -8.29928648e-03, ...,\n",
       "          -7.34738278e-05,  3.06016882e-04, -2.02537272e-02],\n",
       "         [-1.01836538e-02,  8.29600543e-03,  8.80015735e-03, ...,\n",
       "          -3.67553392e-03, -4.04562103e-03, -2.27258876e-02]],\n",
       "\n",
       "        [[-9.10928065e-04,  4.84911818e-03, -2.53095496e-02, ...,\n",
       "          -1.74871087e-02,  1.47446459e-02,  1.92329623e-02],\n",
       "         [ 7.68600218e-03, -2.41356641e-02,  2.35225428e-02, ...,\n",
       "          -9.98005085e-03, -1.43057210e-02,  3.22144032e-02],\n",
       "         [-1.33184046e-02,  2.35917792e-02, -1.93552561e-02, ...,\n",
       "           4.90367692e-03,  1.94049105e-02, -2.61037163e-02],\n",
       "         [ 6.13741204e-03, -1.84723549e-02, -4.90886159e-03, ...,\n",
       "          -1.48494095e-02, -1.10477004e-02, -2.04542349e-03],\n",
       "         [ 8.75938311e-03,  2.14179605e-02,  4.49936464e-03, ...,\n",
       "           5.25149889e-03, -2.27299915e-03,  8.03715643e-03]]],\n",
       "\n",
       "\n",
       "       ...,\n",
       "\n",
       "\n",
       "       [[[ 7.10980035e-04, -1.19176263e-03, -4.09652712e-03, ...,\n",
       "          -1.06717553e-03,  3.22939036e-03,  1.18277117e-03],\n",
       "         [-6.20418461e-03, -5.39286644e-04, -3.29807680e-03, ...,\n",
       "           4.73739253e-03, -1.88513158e-03, -1.85388187e-03],\n",
       "         [-1.40315425e-02, -5.53869409e-03, -1.53934909e-03, ...,\n",
       "          -1.46152433e-02,  9.73738497e-04, -6.17994787e-03],\n",
       "         [ 8.50473903e-03,  2.51271413e-03, -2.00268365e-02, ...,\n",
       "           3.99493128e-02,  2.60322448e-02, -4.71159741e-02],\n",
       "         [ 3.42223328e-04,  2.52110716e-02,  1.42368656e-02, ...,\n",
       "           6.56270841e-03,  1.14156837e-02, -1.61408607e-04]],\n",
       "\n",
       "        [[-3.04297544e-03, -3.82754277e-03,  1.02121001e-02, ...,\n",
       "          -1.87691650e-03,  1.84955040e-03, -6.72248949e-04],\n",
       "         [-1.27596152e-03, -4.45899135e-03, -4.24439693e-03, ...,\n",
       "          -2.40407791e-03, -6.09396352e-03,  1.87304558e-03],\n",
       "         [ 3.03444546e-02, -1.76738538e-02,  1.04332520e-02, ...,\n",
       "           1.46690318e-02, -4.90838254e-04, -6.21618889e-03],\n",
       "         [-1.07004289e-02, -9.29284096e-03, -1.44255543e-02, ...,\n",
       "          -2.02363543e-02, -8.24816246e-03, -1.28144482e-02],\n",
       "         [-2.72471774e-02,  1.27356965e-02, -2.44998317e-02, ...,\n",
       "           2.07790602e-02, -1.08802412e-02, -2.89525781e-02]],\n",
       "\n",
       "        [[-3.22268228e-03, -1.10921338e-02, -5.52512472e-03, ...,\n",
       "          -1.47730093e-02,  3.58727295e-03, -4.30471310e-03],\n",
       "         [-7.30517367e-03, -3.80642386e-03, -9.16398130e-03, ...,\n",
       "           1.65425017e-02,  2.83051282e-03, -1.86295789e-02],\n",
       "         [-1.35969464e-03,  6.19744509e-03, -5.80956116e-02, ...,\n",
       "          -5.55709936e-03,  1.69858243e-02,  1.40098482e-03],\n",
       "         [ 2.06652619e-02, -3.29915136e-02,  1.00892084e-02, ...,\n",
       "           1.10350763e-02, -1.29821990e-02, -9.76921618e-03],\n",
       "         [-1.91453900e-02,  1.56951360e-02,  2.10901760e-02, ...,\n",
       "           1.75913498e-02,  8.54251161e-03,  2.31839437e-03]],\n",
       "\n",
       "        [[ 9.87619720e-03, -1.14803044e-02,  1.38424477e-02, ...,\n",
       "          -5.13632549e-03,  3.82662239e-03,  2.89958110e-03],\n",
       "         [ 1.86096015e-03, -6.97208289e-03, -1.26787191e-02, ...,\n",
       "          -9.99618415e-03, -5.28944004e-03, -1.62734874e-02],\n",
       "         [ 5.42677008e-03, -4.21024021e-03, -5.03139198e-03, ...,\n",
       "          -1.01659577e-02,  1.58417970e-05, -1.54751074e-02],\n",
       "         [-1.47697888e-02,  2.39487318e-03,  1.26560021e-03, ...,\n",
       "          -1.27563160e-02, -2.26945542e-02,  2.29133060e-04],\n",
       "         [-1.58497989e-02,  1.78533111e-04, -1.63328834e-02, ...,\n",
       "           1.33197138e-03,  6.79092295e-03, -1.78122297e-02]],\n",
       "\n",
       "        [[ 1.20922492e-03,  5.87178953e-03, -1.07176360e-02, ...,\n",
       "           1.11922286e-02,  4.12592059e-03, -4.49578161e-04],\n",
       "         [-5.60861267e-03, -5.54086221e-03,  1.10774627e-02, ...,\n",
       "           7.60227954e-03, -3.10189533e-03, -5.65808639e-03],\n",
       "         [-1.74498977e-03,  3.04561872e-02, -2.35018954e-02, ...,\n",
       "           9.40346718e-03, -9.37611982e-03, -3.74169555e-04],\n",
       "         [-8.08770070e-04, -1.22770108e-02,  1.56478789e-02, ...,\n",
       "          -4.23314190e-03, -1.73381772e-02,  6.55860314e-03],\n",
       "         [ 4.11387905e-03,  3.16418000e-02, -1.31318169e-02, ...,\n",
       "          -1.14483992e-02,  2.98183528e-03,  6.66363491e-03]]],\n",
       "\n",
       "\n",
       "       [[[ 1.12442262e-02, -4.34993580e-03, -1.99286779e-03, ...,\n",
       "          -1.28866229e-02,  3.97603167e-03, -2.42797192e-03],\n",
       "         [ 6.21918449e-03, -1.33681914e-03, -3.21841403e-03, ...,\n",
       "           1.65949576e-02,  1.71973067e-03, -8.60720593e-03],\n",
       "         [-1.82511248e-02, -2.24893237e-03, -2.40267050e-02, ...,\n",
       "          -1.24546848e-02,  1.45958140e-02, -6.59219781e-03],\n",
       "         [-3.50297173e-03, -4.63394262e-03, -1.08918669e-02, ...,\n",
       "           3.77893858e-02,  1.70437135e-02, -2.31050104e-02],\n",
       "         [ 4.05544648e-03,  6.40176423e-03,  4.86972975e-03, ...,\n",
       "           4.64716135e-03, -1.03827557e-02, -2.71131229e-02]],\n",
       "\n",
       "        [[ 1.52320531e-03, -4.03043901e-04,  9.66479443e-03, ...,\n",
       "          -1.86896902e-02, -1.30318590e-02,  9.62291087e-05],\n",
       "         [ 8.43452697e-04, -1.10119942e-03, -2.18481151e-03, ...,\n",
       "          -2.27356609e-03, -1.54008588e-03,  2.18558288e-03],\n",
       "         [ 1.62224844e-02, -1.37208458e-02,  7.27001205e-03, ...,\n",
       "          -2.02655010e-02, -6.82593463e-03, -9.59136244e-03],\n",
       "         [-1.10312020e-02, -1.22506777e-02, -1.02022272e-02, ...,\n",
       "          -2.12767739e-02, -2.09206492e-02,  6.82608597e-03],\n",
       "         [-9.04903840e-03,  1.58181544e-02, -1.82727259e-02, ...,\n",
       "           4.88759764e-03, -6.90679345e-03, -2.53432412e-02]],\n",
       "\n",
       "        [[-9.68173705e-03, -2.67082127e-03, -1.45596331e-02, ...,\n",
       "          -5.03826980e-03,  6.10094424e-03,  1.80974938e-02],\n",
       "         [-4.91075031e-03, -1.30568100e-02, -4.30883467e-03, ...,\n",
       "           3.36252600e-02,  2.20917631e-03, -1.59772597e-02],\n",
       "         [-4.92433868e-02,  2.72192992e-02, -2.28724275e-02, ...,\n",
       "           1.15632685e-02,  6.05163351e-03, -1.14374394e-02],\n",
       "         [-3.14791454e-04, -2.37034950e-02,  1.28855901e-02, ...,\n",
       "           9.98478942e-03, -2.10402012e-02,  3.26553965e-03],\n",
       "         [-1.20268576e-02,  3.19038704e-02, -1.91023089e-02, ...,\n",
       "           1.42651796e-03,  1.37275085e-03, -1.58379637e-02]],\n",
       "\n",
       "        [[ 5.15992427e-03, -1.43641094e-02,  1.57136451e-02, ...,\n",
       "          -2.28402670e-03,  1.17425648e-02, -6.42949296e-03],\n",
       "         [-6.12081029e-03, -1.29473172e-02, -8.78455676e-03, ...,\n",
       "          -2.10582055e-02, -1.18523715e-02, -4.45536757e-03],\n",
       "         [-1.36095118e-02,  2.55968794e-03, -9.76201613e-03, ...,\n",
       "          -1.02724582e-02,  5.08134207e-03, -1.98971555e-02],\n",
       "         [-1.53222112e-02, -3.34377936e-03, -2.85890885e-03, ...,\n",
       "          -2.04936392e-03, -1.15031675e-02,  1.68849491e-02],\n",
       "         [-5.45890676e-03,  2.67226086e-03, -2.01663235e-03, ...,\n",
       "           1.63922494e-03, -4.55646729e-03, -1.80150941e-02]],\n",
       "\n",
       "        [[-5.61607350e-03,  1.32967057e-02, -1.27249546e-02, ...,\n",
       "           7.97176175e-03, -7.64343189e-03, -2.77016894e-03],\n",
       "         [ 5.97915752e-03, -1.02207763e-02,  6.74931472e-03, ...,\n",
       "          -5.85512083e-04, -2.18857434e-02,  1.22075027e-03],\n",
       "         [-2.10664440e-02,  2.06028912e-02, -7.58373644e-03, ...,\n",
       "           1.09780347e-03,  7.30589638e-03, -1.26056583e-03],\n",
       "         [ 6.47873059e-03, -1.94729287e-02, -5.97564038e-03, ...,\n",
       "          -5.68218715e-03, -2.54521426e-02,  1.30519336e-02],\n",
       "         [-9.95008927e-03,  2.03579627e-02, -6.34722551e-03, ...,\n",
       "          -7.83738121e-03,  2.18486637e-02, -7.44312909e-03]]],\n",
       "\n",
       "\n",
       "       [[[ 2.58623576e-03, -3.73930158e-03,  4.74780938e-03, ...,\n",
       "          -5.66819403e-03, -6.81305211e-03, -4.19892557e-03],\n",
       "         [ 3.92697565e-03,  5.18603669e-03, -7.80874351e-03, ...,\n",
       "           7.33010564e-03,  2.97298795e-03, -1.99022181e-02],\n",
       "         [-1.35224406e-03,  2.06943806e-02, -7.65168248e-03, ...,\n",
       "           3.35252704e-03, -1.34877209e-02, -3.35044600e-03],\n",
       "         [-7.75693974e-04, -8.40123557e-03, -3.53138917e-03, ...,\n",
       "          -6.49379753e-03, -8.99972394e-03,  4.54903999e-03],\n",
       "         [ 4.10221331e-03, -1.15613127e-02,  1.20430188e-02, ...,\n",
       "           6.55102124e-03, -1.28186662e-02, -2.45478414e-02]],\n",
       "\n",
       "        [[ 7.05070095e-03, -6.51681423e-03,  1.61460936e-02, ...,\n",
       "           9.68405278e-04, -4.42358386e-03, -2.62876390e-03],\n",
       "         [-2.04429729e-03, -1.27234729e-02, -7.04081357e-03, ...,\n",
       "          -1.87317561e-03, -4.79610451e-03, -2.05500843e-03],\n",
       "         [-8.15570354e-03, -9.07987915e-03,  1.46876611e-02, ...,\n",
       "          -2.13636495e-02, -1.90517195e-02, -1.42921172e-02],\n",
       "         [ 1.25341341e-02, -1.63704976e-02, -1.25369225e-02, ...,\n",
       "          -5.69691765e-04, -3.10021881e-02,  1.26049004e-03],\n",
       "         [ 3.01751820e-03,  2.81202514e-02, -4.16642008e-03, ...,\n",
       "           2.59109004e-03,  6.30228175e-03, -1.03985416e-02]],\n",
       "\n",
       "        [[ 9.71235894e-03, -6.17570989e-03, -1.87295415e-02, ...,\n",
       "          -1.02564739e-03, -8.81892163e-04, -3.29498528e-03],\n",
       "         [ 5.88604435e-03, -3.09876679e-03, -7.59877963e-03, ...,\n",
       "           1.06429476e-02,  7.80382054e-03, -2.54852269e-02],\n",
       "         [-2.05311440e-02,  6.28545601e-03, -1.32930083e-02, ...,\n",
       "           1.58931389e-02, -1.92631278e-02,  1.03979036e-02],\n",
       "         [ 1.68442167e-02, -1.15782553e-02,  1.25956330e-02, ...,\n",
       "           2.98347846e-02,  3.15035656e-02, -1.85598303e-02],\n",
       "         [ 2.63336767e-03,  9.31734685e-03,  1.81675470e-03, ...,\n",
       "           5.89383021e-03, -2.29203980e-02, -1.01379026e-03]],\n",
       "\n",
       "        [[ 3.77116329e-03, -1.13659892e-02,  8.49967450e-03, ...,\n",
       "          -4.37050330e-04,  3.38341529e-03,  2.06596265e-03],\n",
       "         [-4.02571773e-03, -2.92819296e-03, -7.28310086e-03, ...,\n",
       "          -6.69429917e-03, -6.27599936e-03, -2.66234414e-03],\n",
       "         [ 4.66155261e-03, -6.78191707e-03,  7.36600906e-03, ...,\n",
       "          -2.39578933e-02, -1.24993697e-02, -1.64781678e-02],\n",
       "         [-7.69911567e-03, -6.31966256e-03, -2.93845264e-03, ...,\n",
       "          -6.33296696e-03, -3.40663653e-04,  1.49533385e-02],\n",
       "         [ 3.38139711e-03,  1.64829306e-02, -9.86781158e-03, ...,\n",
       "           2.07248284e-03, -1.16748782e-02, -2.00678334e-02]],\n",
       "\n",
       "        [[ 1.32301671e-03,  2.01010820e-03, -5.91339217e-03, ...,\n",
       "           1.57652935e-03,  9.24746320e-03,  4.19091806e-03],\n",
       "         [-2.50576041e-03, -1.08933533e-02,  1.03084845e-02, ...,\n",
       "          -4.56663605e-04, -2.29989318e-03,  3.54791945e-03],\n",
       "         [-1.72098223e-02,  6.30287174e-03, -9.41265188e-03, ...,\n",
       "          -1.01711461e-03,  2.28390898e-04,  9.82116163e-03],\n",
       "         [ 1.65782571e-02, -2.40080915e-02, -1.45895674e-05, ...,\n",
       "          -1.06995776e-02, -3.23350467e-02,  1.86731555e-02],\n",
       "         [-1.11949313e-02,  1.16735287e-02,  2.28352984e-03, ...,\n",
       "           2.86795408e-03,  2.50322893e-02, -1.31839672e-02]]]],\n",
       "      dtype=float32)>"
      ]
     },
     "execution_count": 19,
     "metadata": {},
     "output_type": "execute_result"
    }
   ],
   "source": [
    "deconv(conv_out)"
   ]
  },
  {
   "cell_type": "markdown",
   "id": "intended-cradle",
   "metadata": {},
   "source": [
    "# Identity mapping"
   ]
  },
  {
   "cell_type": "code",
   "execution_count": null,
   "id": "statutory-piano",
   "metadata": {},
   "outputs": [],
   "source": []
  },
  {
   "cell_type": "code",
   "execution_count": 3,
   "id": "existing-grammar",
   "metadata": {},
   "outputs": [],
   "source": [
    "conv = tf.keras.layers.Conv2D(filters=32, kernel_size=(3,3), activation='relu', strides=(2, 2), \n",
    "                       input_shape=image_dim, padding=\"same\")"
   ]
  },
  {
   "cell_type": "code",
   "execution_count": 4,
   "id": "engaged-slave",
   "metadata": {},
   "outputs": [
    {
     "data": {
      "text/plain": [
       "TensorShape([10, 14, 14, 32])"
      ]
     },
     "execution_count": 4,
     "metadata": {},
     "output_type": "execute_result"
    }
   ],
   "source": [
    "conv_out = conv(x_train[0:10])\n",
    "conv_out.shape"
   ]
  },
  {
   "cell_type": "code",
   "execution_count": 5,
   "id": "tight-mercury",
   "metadata": {},
   "outputs": [],
   "source": [
    "identity_mapping =  tf.keras.layers.Conv2D(filters=32, kernel_size=(1), padding=\"same\", strides=(2, 2))"
   ]
  },
  {
   "cell_type": "code",
   "execution_count": 6,
   "id": "operational-chambers",
   "metadata": {},
   "outputs": [
    {
     "data": {
      "text/plain": [
       "TensorShape([10, 14, 14, 32])"
      ]
     },
     "execution_count": 6,
     "metadata": {},
     "output_type": "execute_result"
    }
   ],
   "source": [
    "id_out = identity_mapping(x_train[0:10])\n",
    "id_out.shape"
   ]
  },
  {
   "cell_type": "code",
   "execution_count": 8,
   "id": "exciting-gibraltar",
   "metadata": {},
   "outputs": [],
   "source": [
    "#conv_out + id_out"
   ]
  },
  {
   "cell_type": "markdown",
   "id": "incredible-distinction",
   "metadata": {},
   "source": [
    "## Identity maping with strides 1"
   ]
  },
  {
   "cell_type": "code",
   "execution_count": 9,
   "id": "emotional-resident",
   "metadata": {},
   "outputs": [],
   "source": [
    "identity_mapping =  tf.keras.layers.Conv2D(filters=32, kernel_size=(1), padding=\"same\", strides=(1,1))"
   ]
  },
  {
   "cell_type": "code",
   "execution_count": 10,
   "id": "interesting-publisher",
   "metadata": {},
   "outputs": [
    {
     "data": {
      "text/plain": [
       "TensorShape([10, 28, 28, 32])"
      ]
     },
     "execution_count": 10,
     "metadata": {},
     "output_type": "execute_result"
    }
   ],
   "source": [
    "id_out = identity_mapping(x_train[0:10])\n",
    "id_out.shape"
   ]
  },
  {
   "cell_type": "code",
   "execution_count": 20,
   "id": "instructional-lobby",
   "metadata": {},
   "outputs": [],
   "source": [
    "import numpy as np"
   ]
  },
  {
   "cell_type": "code",
   "execution_count": 21,
   "id": "functional-capture",
   "metadata": {},
   "outputs": [
    {
     "data": {
      "text/plain": [
       "30496"
      ]
     },
     "execution_count": 21,
     "metadata": {},
     "output_type": "execute_result"
    }
   ],
   "source": [
    "np.sum(x_train[0:10] != id_out)"
   ]
  },
  {
   "cell_type": "code",
   "execution_count": 25,
   "id": "suitable-logging",
   "metadata": {},
   "outputs": [
    {
     "data": {
      "text/plain": [
       "220384"
      ]
     },
     "execution_count": 25,
     "metadata": {},
     "output_type": "execute_result"
    }
   ],
   "source": [
    "np.sum(x_train[0:10] == id_out)"
   ]
  },
  {
   "cell_type": "markdown",
   "id": "widespread-organ",
   "metadata": {},
   "source": [
    "# conv transpose\n",
    "so strides controls the dimension"
   ]
  },
  {
   "cell_type": "code",
   "execution_count": 8,
   "id": "bibliographic-detail",
   "metadata": {},
   "outputs": [],
   "source": [
    "conv_trans = tf.keras.layers.Conv2DTranspose"
   ]
  },
  {
   "cell_type": "code",
   "execution_count": 9,
   "id": "ready-cuisine",
   "metadata": {},
   "outputs": [],
   "source": [
    "import tensorflow as tf\n",
    "import numpy as np"
   ]
  },
  {
   "cell_type": "code",
   "execution_count": 10,
   "id": "international-clinton",
   "metadata": {},
   "outputs": [],
   "source": [
    "latent_dim=3"
   ]
  },
  {
   "cell_type": "code",
   "execution_count": 11,
   "id": "departmental-journalist",
   "metadata": {},
   "outputs": [],
   "source": [
    "decoder = tf.keras.Sequential(\n",
    "        [\n",
    "            tf.keras.layers.InputLayer(input_shape=(latent_dim,)),\n",
    "            tf.keras.layers.Dense(units=7*7*32, activation=tf.nn.relu),\n",
    "            tf.keras.layers.Reshape(target_shape=(7, 7, 32)),\n",
    "            tf.keras.layers.Conv2DTranspose(\n",
    "                filters=64, kernel_size=3, strides=2, padding='same',\n",
    "                activation='relu'),\n",
    "            tf.keras.layers.Conv2DTranspose(\n",
    "                filters=32, kernel_size=3, strides=2, padding='same',\n",
    "                activation='relu'),\n",
    "            # No activation\n",
    "            tf.keras.layers.Conv2DTranspose(\n",
    "                filters=1, kernel_size=3, strides=1, padding='same'),\n",
    "        ]\n",
    "    )"
   ]
  },
  {
   "cell_type": "code",
   "execution_count": 12,
   "id": "light-following",
   "metadata": {},
   "outputs": [
    {
     "data": {
      "text/plain": [
       "(28, 28, 1)"
      ]
     },
     "execution_count": 12,
     "metadata": {},
     "output_type": "execute_result"
    }
   ],
   "source": [
    "x_train[0].shape"
   ]
  },
  {
   "cell_type": "code",
   "execution_count": 13,
   "id": "extra-spelling",
   "metadata": {},
   "outputs": [],
   "source": [
    "x = np.array([[1,2,3]]).astype(\"float32\")"
   ]
  },
  {
   "cell_type": "markdown",
   "id": "palestinian-maryland",
   "metadata": {},
   "source": [
    "# Method 2\n",
    "https://www.tensorflow.org/probability/examples/Probabilistic_Layers_VAE"
   ]
  },
  {
   "cell_type": "code",
   "execution_count": 20,
   "id": "flying-essay",
   "metadata": {},
   "outputs": [
    {
     "data": {
      "text/plain": [
       "<tf.Tensor: shape=(1, 1, 1, 3), dtype=float32, numpy=array([[[[1., 2., 3.]]]], dtype=float32)>"
      ]
     },
     "execution_count": 20,
     "metadata": {},
     "output_type": "execute_result"
    }
   ],
   "source": [
    "x2 = tf.keras.layers.Reshape(target_shape=(1, 1, 3))(x)\n",
    "x2"
   ]
  },
  {
   "cell_type": "code",
   "execution_count": 48,
   "id": "baking-pregnancy",
   "metadata": {},
   "outputs": [
    {
     "data": {
      "text/plain": [
       "TensorShape([1, 7, 7, 32])"
      ]
     },
     "execution_count": 48,
     "metadata": {},
     "output_type": "execute_result"
    }
   ],
   "source": [
    "test2 = tf.keras.layers.Conv2DTranspose(filters=32, kernel_size=7, strides=1,\n",
    "                         padding='valid')(x2)\n",
    "test2.shape"
   ]
  },
  {
   "cell_type": "code",
   "execution_count": 49,
   "id": "dramatic-yield",
   "metadata": {},
   "outputs": [
    {
     "data": {
      "text/plain": [
       "TensorShape([1, 14, 14, 32])"
      ]
     },
     "execution_count": 49,
     "metadata": {},
     "output_type": "execute_result"
    }
   ],
   "source": [
    "test3 = tf.keras.layers.Conv2DTranspose(32, 2, strides=2,\n",
    "                         padding='same')(test2)\n",
    "test3.shape"
   ]
  },
  {
   "cell_type": "markdown",
   "id": "innovative-oriental",
   "metadata": {},
   "source": [
    "# Method 1\n",
    "https://www.tensorflow.org/tutorials/generative/cvae"
   ]
  },
  {
   "cell_type": "code",
   "execution_count": 33,
   "id": "revised-baker",
   "metadata": {},
   "outputs": [
    {
     "data": {
      "text/plain": [
       "TensorShape([1, 7, 7, 32])"
      ]
     },
     "execution_count": 33,
     "metadata": {},
     "output_type": "execute_result"
    }
   ],
   "source": [
    "y = tf.keras.layers.InputLayer(input_shape=(latent_dim,))(x)\n",
    "y = tf.keras.layers.Dense(units=7*7*32, activation=tf.nn.relu)(y)\n",
    "y = tf.keras.layers.Reshape(target_shape=(7, 7, 32))(y)\n",
    "y.shape"
   ]
  },
  {
   "cell_type": "code",
   "execution_count": 34,
   "id": "infinite-consistency",
   "metadata": {},
   "outputs": [
    {
     "data": {
      "text/plain": [
       "TensorShape([1, 14, 14, 64])"
      ]
     },
     "execution_count": 34,
     "metadata": {},
     "output_type": "execute_result"
    }
   ],
   "source": [
    "y2 = tf.keras.layers.Conv2DTranspose(\n",
    "                filters=64, kernel_size=3, strides=2, padding='same',\n",
    "                activation='relu')(y)\n",
    "y2.shape"
   ]
  },
  {
   "cell_type": "code",
   "execution_count": 60,
   "id": "psychological-ideal",
   "metadata": {},
   "outputs": [
    {
     "data": {
      "text/plain": [
       "TensorShape([1, 28, 28, 32])"
      ]
     },
     "execution_count": 60,
     "metadata": {},
     "output_type": "execute_result"
    }
   ],
   "source": [
    "y3 = tf.keras.layers.Conv2DTranspose(\n",
    "                filters=32, kernel_size=3, strides=2, padding='same',\n",
    "                activation='relu')(y2)\n",
    "y3.shape"
   ]
  },
  {
   "cell_type": "code",
   "execution_count": 61,
   "id": "quality-feelings",
   "metadata": {},
   "outputs": [
    {
     "data": {
      "text/plain": [
       "TensorShape([1, 28, 28, 1])"
      ]
     },
     "execution_count": 61,
     "metadata": {},
     "output_type": "execute_result"
    }
   ],
   "source": [
    "y4 = tf.keras.layers.Conv2DTranspose(\n",
    "                filters=1, kernel_size=3, strides=1, padding='same')(y3)\n",
    "y4.shape"
   ]
  },
  {
   "cell_type": "code",
   "execution_count": 63,
   "id": "criminal-software",
   "metadata": {},
   "outputs": [
    {
     "data": {
      "text/plain": [
       "(28, 28, 1)"
      ]
     },
     "execution_count": 63,
     "metadata": {},
     "output_type": "execute_result"
    }
   ],
   "source": [
    "image_dim"
   ]
  },
  {
   "cell_type": "code",
   "execution_count": null,
   "id": "sudden-gardening",
   "metadata": {},
   "outputs": [],
   "source": []
  }
 ],
 "metadata": {
  "kernelspec": {
   "display_name": "Python 3",
   "language": "python",
   "name": "python3"
  },
  "language_info": {
   "codemirror_mode": {
    "name": "ipython",
    "version": 3
   },
   "file_extension": ".py",
   "mimetype": "text/x-python",
   "name": "python",
   "nbconvert_exporter": "python",
   "pygments_lexer": "ipython3",
   "version": "3.8.5"
  }
 },
 "nbformat": 4,
 "nbformat_minor": 5
}
