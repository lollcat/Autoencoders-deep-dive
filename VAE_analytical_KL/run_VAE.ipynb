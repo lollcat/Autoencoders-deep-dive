{
 "cells": [
  {
   "cell_type": "code",
   "execution_count": 1,
   "id": "stopped-cargo",
   "metadata": {},
   "outputs": [],
   "source": []
  },
  {
   "cell_type": "code",
   "execution_count": 2,
   "id": "hollow-corrections",
   "metadata": {},
   "outputs": [],
   "source": [
    "# tensorboard --logdir logs\n",
    "#import tensorflow as tf\n",
    "#tf.config.run_functions_eagerly(True)\n",
    "from load_data import x_train, x_test, train_ds, test_ds, image_dim, y_test\n",
    "from VAE import VAE\n",
    "import tensorflow as tf\n",
    "import matplotlib.pyplot as plt\n",
    "import datetime\n",
    "import numpy as np\n",
    "\n",
    "\"\"\"CONGI PARAMS\"\"\"\n",
    "name = \"independent normal\"\n",
    "latent_representation_dim = 2\n",
    "EPOCHS = 30\n"
   ]
  },
  {
   "cell_type": "code",
   "execution_count": 3,
   "id": "designing-directory",
   "metadata": {},
   "outputs": [],
   "source": [
    "# Define vae\n",
    "vae = VAE(latent_representation_dim, image_dim)\n",
    "optimizer = tf.keras.optimizers.Adam(learning_rate=1e-3)\n",
    "loss_objective = tf.keras.losses.BinaryCrossentropy()\n",
    "train_loss = tf.keras.metrics.Mean('train_loss', dtype=tf.float32)\n",
    "vae.compile(optimizer, loss_objective)\n",
    "\n",
    "samples = x_test[0:9, :, :, :][:, :, :]\n",
    "example_reconstruction_hist = [vae(samples).numpy()]\n",
    "\n",
    "# Tensorboard writer\n",
    "logdir = \"logs/\" + datetime.datetime.now().strftime(\"%Y%m%d-%H%M%S\")\n",
    "train_file_writer = tf.summary.create_file_writer(logdir + name +  \"/train/\")\n",
    "test_file_writer = tf.summary.create_file_writer(logdir + name + \"/test\")"
   ]
  },
  {
   "cell_type": "code",
   "execution_count": null,
   "id": "successful-soundtrack",
   "metadata": {},
   "outputs": [
    {
     "name": "stdout",
     "output_type": "stream",
     "text": [
      "Epoch 1, \n",
      " Loss: 230.75563497340426, \n",
      " Test Loss: 188.9394775390625\n",
      "Epoch 2, \n",
      " Loss: 185.8389960106383, \n",
      " Test Loss: 182.10986328125\n",
      "Epoch 3, \n",
      " Loss: 177.54458111702127, \n",
      " Test Loss: 173.595458984375\n",
      "Epoch 4, \n",
      " Loss: 170.87980385638298, \n",
      " Test Loss: 168.49892578125\n"
     ]
    }
   ],
   "source": [
    "train_history = []\n",
    "test_history = []\n",
    "step_counter = 0\n",
    "tf.summary.experimental.set_step(step_counter)\n",
    "for epoch in range(EPOCHS):\n",
    "    total_train_loss = 0\n",
    "    for images in train_ds:\n",
    "        ELBO, kl_loss, reconstruction_loss = vae.train_step(images)\n",
    "        total_train_loss += ELBO\n",
    "        with train_file_writer.as_default():\n",
    "            tf.summary.scalar(\"ELBO\", ELBO)\n",
    "            tf.summary.scalar(\"KL divergence\", kl_loss)\n",
    "            tf.summary.scalar(\"Reconstruction loss\", reconstruction_loss)\n",
    "            tf.summary.scalar(\"mean variance\", vae.metrics[0].result())\n",
    "        step_counter += 1\n",
    "        tf.summary.experimental.set_step(step_counter)\n",
    "\n",
    "    total_test_loss = 0\n",
    "    for test_images in test_ds:\n",
    "        ELBO_test, kl_loss_test, reconstruction_loss_test = vae.test_step(test_images)\n",
    "        total_test_loss += ELBO_test\n",
    "        with test_file_writer.as_default():\n",
    "            tf.summary.scalar(\"ELBO\", ELBO_test)\n",
    "            tf.summary.scalar(\"KL divergence\", kl_loss_test)\n",
    "            tf.summary.scalar(\"Reconstruction loss\", reconstruction_loss_test)\n",
    "\n",
    "    train_history.append(total_train_loss / len(train_ds))\n",
    "    test_history.append(total_test_loss / len(test_ds))\n",
    "    example_reconstruction_hist.append(vae(samples).numpy())\n",
    "\n",
    "    print(\n",
    "        f'Epoch {epoch + 1}, '\n",
    "        f'\\n Loss: {total_train_loss.numpy() / len(train_ds)}, '\n",
    "        f'\\n Test Loss: {total_test_loss.numpy() / len(test_ds)}')\n",
    "\n"
   ]
  },
  {
   "cell_type": "code",
   "execution_count": null,
   "id": "naval-breach",
   "metadata": {},
   "outputs": [],
   "source": [
    "fig, axs = plt.subplots(1, 2)\n",
    "axs[0].plot(train_history)\n",
    "axs[1].plot(test_history)"
   ]
  },
  {
   "cell_type": "code",
   "execution_count": null,
   "id": "unavailable-tension",
   "metadata": {},
   "outputs": [],
   "source": [
    "n = -1\n",
    "fig, axs = plt.subplots(3, 3)\n",
    "for i in range(9):\n",
    "    row = int(i / 3)\n",
    "    col = i % 3\n",
    "    axs[row, col].imshow(example_reconstruction_hist[n][i, :, :], cmap=\"gray\")\n",
    "plt.show()"
   ]
  },
  {
   "cell_type": "code",
   "execution_count": null,
   "id": "directed-smoke",
   "metadata": {},
   "outputs": [],
   "source": [
    "import numpy as np"
   ]
  },
  {
   "cell_type": "code",
   "execution_count": null,
   "id": "preliminary-clerk",
   "metadata": {
    "scrolled": true
   },
   "outputs": [],
   "source": [
    "np.unique(y_test)"
   ]
  },
  {
   "cell_type": "code",
   "execution_count": null,
   "id": "solved-diploma",
   "metadata": {},
   "outputs": [],
   "source": [
    "import matplotlib as mpl\n",
    "\n",
    "mpl.rcParams['figure.dpi'] = 300"
   ]
  },
  {
   "cell_type": "code",
   "execution_count": null,
   "id": "careful-clarity",
   "metadata": {},
   "outputs": [],
   "source": [
    "encoding_2D = vae.get_encoding(x_test)\n",
    "\n",
    "plt.scatter(encoding_2D[:, 0], encoding_2D[:, 1], c=y_test, s=1, cmap=mpl.cm.rainbow)\n",
    "#plt.colorbar()"
   ]
  },
  {
   "cell_type": "code",
   "execution_count": null,
   "id": "medieval-netherlands",
   "metadata": {},
   "outputs": [],
   "source": [
    "# Display a 2D manifold of the digits\n",
    "n = 15  # figure with 15x15 digits\n",
    "digit_size = 28\n",
    "figure = np.zeros((digit_size * n, digit_size * n))\n",
    "# We will sample n points within [-15, 15] standard deviations\n",
    "grid_x = np.linspace(-1, 1, n)\n",
    "grid_y = np.linspace(-1, 1, n)\n",
    "for i, yi in enumerate(grid_x):\n",
    "    for j, xi in enumerate(grid_y):\n",
    "        z_sample = np.array([[xi, yi]])\n",
    "        x_decoded = vae.decoder(z_sample).numpy()\n",
    "        digit = x_decoded[0].reshape(digit_size, digit_size)\n",
    "        figure[i * digit_size: (i + 1) * digit_size,\n",
    "               j * digit_size: (j + 1) * digit_size] = digit\n",
    "plt.figure(figsize=(10, 10))\n",
    "plt.imshow(figure)"
   ]
  },
  {
   "cell_type": "markdown",
   "id": "adjusted-poetry",
   "metadata": {},
   "source": [
    "# 4 Point visualisation"
   ]
  },
  {
   "cell_type": "code",
   "execution_count": null,
   "id": "prompt-place",
   "metadata": {},
   "outputs": [],
   "source": [
    "n = -1\n",
    "fig, axs = plt.subplots(3, 3)\n",
    "for i in range(9):\n",
    "    row = int(i / 3)\n",
    "    col = i % 3\n",
    "    axs[row, col].imshow(x_test[n][i, :, :], cmap=\"gray\")\n",
    "plt.show()"
   ]
  }
 ],
 "metadata": {
  "kernelspec": {
   "display_name": "Python 3",
   "language": "python",
   "name": "python3"
  },
  "language_info": {
   "codemirror_mode": {
    "name": "ipython",
    "version": 3
   },
   "file_extension": ".py",
   "mimetype": "text/x-python",
   "name": "python",
   "nbconvert_exporter": "python",
   "pygments_lexer": "ipython3",
   "version": "3.8.5"
  }
 },
 "nbformat": 4,
 "nbformat_minor": 5
}
