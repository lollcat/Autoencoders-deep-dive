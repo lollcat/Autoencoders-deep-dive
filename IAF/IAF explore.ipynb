{
 "cells": [
  {
   "cell_type": "code",
   "execution_count": 10,
   "id": "statistical-major",
   "metadata": {},
   "outputs": [],
   "source": [
    " # set path to parent file\n",
    "from pathlib import Path\n",
    "import os\n",
    "cwd_path = Path.cwd()\n",
    "set_path = str(cwd_path.parent)\n",
    "os.chdir(set_path)"
   ]
  },
  {
   "cell_type": "code",
   "execution_count": 14,
   "id": "opposed-portfolio",
   "metadata": {},
   "outputs": [],
   "source": [
    "from Utils.load_data import x_train, x_test, train_ds, test_ds, image_dim"
   ]
  },
  {
   "cell_type": "code",
   "execution_count": 52,
   "id": "racial-watson",
   "metadata": {},
   "outputs": [],
   "source": [
    "import numpy as np\n",
    "import matplotlib.pyplot as plt"
   ]
  },
  {
   "cell_type": "code",
   "execution_count": 68,
   "id": "compact-patent",
   "metadata": {},
   "outputs": [],
   "source": [
    "from tensorflow.keras.layers import Dense, Flatten, Conv2D, Layer\n",
    "import tensorflow as tf\n",
    "import tensorflow_probability as tfp\n",
    "tfd = tfp.distributions"
   ]
  },
  {
   "cell_type": "markdown",
   "id": "divided-tunnel",
   "metadata": {},
   "source": [
    "# Setup basic layers"
   ]
  },
  {
   "cell_type": "code",
   "execution_count": 69,
   "id": "younger-scout",
   "metadata": {},
   "outputs": [],
   "source": [
    "latent_representation_dim = 2"
   ]
  },
  {
   "cell_type": "code",
   "execution_count": 70,
   "id": "angry-sheep",
   "metadata": {},
   "outputs": [],
   "source": [
    "conv1 = Conv2D(32, 3, activation='relu')\n",
    "flatten = Flatten()\n",
    "distribution_layer = Dense(tfp.layers.IndependentNormal.params_size(latent_representation_dim), tfp.layers.IndependentNormal(latent_representation_dim))"
   ]
  },
  {
   "cell_type": "code",
   "execution_count": 97,
   "id": "flexible-labor",
   "metadata": {},
   "outputs": [],
   "source": [
    "batch_size=100\n",
    "minitest = x_test[0:batch_size, :, :]\n",
    "dist = distribution_layer(flatten(conv1(minitest)))"
   ]
  },
  {
   "cell_type": "code",
   "execution_count": 98,
   "id": "standard-girlfriend",
   "metadata": {},
   "outputs": [
    {
     "data": {
      "text/plain": [
       "TensorShape([100, 2])"
      ]
     },
     "execution_count": 98,
     "metadata": {},
     "output_type": "execute_result"
    }
   ],
   "source": [
    "dist.shape"
   ]
  },
  {
   "cell_type": "code",
   "execution_count": 99,
   "id": "strategic-commodity",
   "metadata": {},
   "outputs": [
    {
     "data": {
      "text/plain": [
       "(<tf.Tensor: shape=(2,), dtype=float32, numpy=array([-0.03470104,  0.00078135], dtype=float32)>,\n",
       " <tf.Tensor: shape=(2,), dtype=float32, numpy=array([0.52435863, 0.5008703 ], dtype=float32)>)"
      ]
     },
     "execution_count": 99,
     "metadata": {},
     "output_type": "execute_result"
    }
   ],
   "source": [
    "dist.mean()[0, :], dist.variance()[0, :]"
   ]
  },
  {
   "cell_type": "code",
   "execution_count": 100,
   "id": "consolidated-pocket",
   "metadata": {},
   "outputs": [],
   "source": [
    "class Encoder(Layer):\n",
    "    def __init__(self, latent_representation_dim=2):\n",
    "        super(Encoder, self).__init__()\n",
    "        self.conv1 = Conv2D(32, 3, activation='relu')\n",
    "        self.flatten = Flatten()\n",
    "        self.distribution_layer = Dense(tfp.layers.IndependentNormal.params_size(latent_representation_dim), \n",
    "                                        tfp.layers.IndependentNormal(latent_representation_dim))\n",
    "    \n",
    "    def normal_output(self, inputs):\n",
    "        x = self.conv1(inputs)\n",
    "        x = self.flatten(x)\n",
    "        dist = self.distribution_layer(x)\n",
    "        return dist"
   ]
  },
  {
   "cell_type": "code",
   "execution_count": 101,
   "id": "rapid-copying",
   "metadata": {},
   "outputs": [],
   "source": [
    "encoder = Encoder()"
   ]
  },
  {
   "cell_type": "code",
   "execution_count": 102,
   "id": "musical-gateway",
   "metadata": {},
   "outputs": [
    {
     "data": {
      "text/plain": [
       "TensorShape([100, 2])"
      ]
     },
     "execution_count": 102,
     "metadata": {},
     "output_type": "execute_result"
    }
   ],
   "source": [
    "encoder.normal_output(minitest).shape"
   ]
  },
  {
   "cell_type": "code",
   "execution_count": 107,
   "id": "august-listening",
   "metadata": {},
   "outputs": [
    {
     "data": {
      "text/plain": [
       "(28, 28, 1)"
      ]
     },
     "execution_count": 107,
     "metadata": {},
     "output_type": "execute_result"
    }
   ],
   "source": [
    "x_test[0, :, :].shape"
   ]
  },
  {
   "cell_type": "code",
   "execution_count": 132,
   "id": "aquatic-timber",
   "metadata": {},
   "outputs": [],
   "source": [
    "point_repeat = np.zeros((1000, 28,28,1))\n",
    "point_repeat[:, :, :, :] = x_test[0, :, :]"
   ]
  },
  {
   "cell_type": "code",
   "execution_count": 133,
   "id": "contained-ethics",
   "metadata": {},
   "outputs": [
    {
     "name": "stdout",
     "output_type": "stream",
     "text": [
      "784 784\n",
      "0.0 [0.]\n"
     ]
    }
   ],
   "source": [
    "print(np.sum(point_repeat[0, :, :, :] == x_test[0, :, :]), 28*28)\n",
    "print(point_repeat[0, 0, 0, 0], x_test[0, 0, 0])"
   ]
  },
  {
   "cell_type": "code",
   "execution_count": 134,
   "id": "inside-lightning",
   "metadata": {},
   "outputs": [
    {
     "data": {
      "text/plain": [
       "<matplotlib.collections.PathCollection at 0x282165a9e20>"
      ]
     },
     "execution_count": 134,
     "metadata": {},
     "output_type": "execute_result"
    },
    {
     "data": {
      "image/png": "[encoded data removed]",
      "text/plain": [
       "<Figure size 432x288 with 1 Axes>"
      ]
     },
     "metadata": {
      "needs_background": "light"
     },
     "output_type": "display_data"
    }
   ],
   "source": [
    "plt.scatter(encoder.normal_output(point_repeat).sample()[:, 0], encoder.normal_output(point_repeat).sample()[:, 1])"
   ]
  },
  {
   "cell_type": "code",
   "execution_count": null,
   "id": "romantic-contrary",
   "metadata": {},
   "outputs": [],
   "source": []
  }
 ],
 "metadata": {
  "kernelspec": {
   "display_name": "Python 3",
   "language": "python",
   "name": "python3"
  },
  "language_info": {
   "codemirror_mode": {
    "name": "ipython",
    "version": 3
   },
   "file_extension": ".py",
   "mimetype": "text/x-python",
   "name": "python",
   "nbconvert_exporter": "python",
   "pygments_lexer": "ipython3",
   "version": "3.8.5"
  }
 },
 "nbformat": 4,
 "nbformat_minor": 5
}
