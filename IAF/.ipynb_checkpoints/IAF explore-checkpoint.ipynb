{
 "cells": [
  {
   "cell_type": "code",
   "execution_count": 10,
   "id": "executed-point",
   "metadata": {},
   "outputs": [],
   "source": [
    " # set path to parent file\n",
    "from pathlib import Path\n",
    "import os\n",
    "cwd_path = Path.cwd()\n",
    "set_path = str(cwd_path.parent)\n",
    "os.chdir(set_path)"
   ]
  },
  {
   "cell_type": "code",
   "execution_count": 14,
   "id": "useful-disposition",
   "metadata": {},
   "outputs": [],
   "source": [
    "from Utils.load_data import x_train, x_test, train_ds, test_ds, image_dim"
   ]
  },
  {
   "cell_type": "code",
   "execution_count": 1,
   "id": "owned-occasions",
   "metadata": {},
   "outputs": [],
   "source": [
    "from tensorflow.keras.layers import Dense, Flatten, Conv2D, Layer\n",
    "import tensorflow as tf\n",
    "import tensorflow_probability as tfp\n",
    "tfd = tfp.distributions"
   ]
  },
  {
   "cell_type": "markdown",
   "id": "patient-amino",
   "metadata": {},
   "source": [
    "# Setup basic layers"
   ]
  },
  {
   "cell_type": "code",
   "execution_count": 15,
   "id": "fatty-journal",
   "metadata": {},
   "outputs": [],
   "source": [
    "latent_representation_dim = 2"
   ]
  },
  {
   "cell_type": "code",
   "execution_count": 16,
   "id": "forty-belly",
   "metadata": {},
   "outputs": [],
   "source": [
    "distribution_params = Dense(tfp.layers.IndependentNormal.params_size(latent_representation_dim), activation=None)\n",
    "distribution_layer = tfp.layers.IndependentNormal(latent_representation_dim)"
   ]
  },
  {
   "cell_type": "code",
   "execution_count": null,
   "id": "institutional-league",
   "metadata": {},
   "outputs": [],
   "source": []
  }
 ],
 "metadata": {
  "kernelspec": {
   "display_name": "Python 3",
   "language": "python",
   "name": "python3"
  },
  "language_info": {
   "codemirror_mode": {
    "name": "ipython",
    "version": 3
   },
   "file_extension": ".py",
   "mimetype": "text/x-python",
   "name": "python",
   "nbconvert_exporter": "python",
   "pygments_lexer": "ipython3",
   "version": "3.8.5"
  }
 },
 "nbformat": 4,
 "nbformat_minor": 5
}
